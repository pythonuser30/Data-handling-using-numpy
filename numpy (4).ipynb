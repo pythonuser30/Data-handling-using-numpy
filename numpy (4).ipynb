{
 "cells": [
  {
   "cell_type": "markdown",
   "id": "f1639f97-4053-4191-b47a-b6dfa7917be4",
   "metadata": {},
   "source": [
    "# python_numpy"
   ]
  },
  {
   "cell_type": "code",
   "execution_count": 1,
   "id": "37c554cb-6c0c-483a-8fe4-2359ddf23db4",
   "metadata": {},
   "outputs": [
    {
     "name": "stdout",
     "output_type": "stream",
     "text": [
      "Requirement already satisfied: numpy in c:\\users\\sa\\appdata\\local\\programs\\python\\python311\\lib\\site-packages (1.26.1)\n",
      "Note: you may need to restart the kernel to use updated packages.\n"
     ]
    }
   ],
   "source": [
    "pip install numpy"
   ]
  },
  {
   "cell_type": "code",
   "execution_count": 5,
   "id": "be36bc60-f34e-4111-87a1-d53561f94c1d",
   "metadata": {},
   "outputs": [],
   "source": [
    "# list= [] , array ,tuple =()"
   ]
  },
  {
   "cell_type": "code",
   "execution_count": 4,
   "id": "4bfb0946-f322-4265-83f3-31ff4975b6f0",
   "metadata": {},
   "outputs": [
    {
     "name": "stdout",
     "output_type": "stream",
     "text": [
      "[1 2 3 4 5]\n"
     ]
    }
   ],
   "source": [
    "#create numpy ndarray object array()\n",
    "import numpy as np\n",
    "x = np.array([1,2,3,4,5])\n",
    "print(x)\n"
   ]
  },
  {
   "cell_type": "code",
   "execution_count": 3,
   "id": "56a02625-92b9-405c-baf6-7f176d96b932",
   "metadata": {},
   "outputs": [
    {
     "name": "stdout",
     "output_type": "stream",
     "text": [
      "<class 'numpy.ndarray'>\n"
     ]
    }
   ],
   "source": [
    "print(type(x))"
   ]
  },
  {
   "cell_type": "code",
   "execution_count": 6,
   "id": "8c112972-8739-4d2d-a461-11858d42c9ca",
   "metadata": {},
   "outputs": [
    {
     "name": "stdout",
     "output_type": "stream",
     "text": [
      "[1 2 3 4 5]\n"
     ]
    }
   ],
   "source": [
    "y = np.array((1,2,3,4,5))\n",
    "print(y)"
   ]
  },
  {
   "cell_type": "code",
   "execution_count": 7,
   "id": "fb968725-b1db-41b2-92c9-5203f84af71f",
   "metadata": {},
   "outputs": [
    {
     "name": "stdout",
     "output_type": "stream",
     "text": [
      "<class 'numpy.ndarray'>\n"
     ]
    }
   ],
   "source": [
    "print(type(y))"
   ]
  },
  {
   "cell_type": "code",
   "execution_count": 10,
   "id": "963cef06-4953-4a64-8e8a-e5fce1a81c17",
   "metadata": {},
   "outputs": [
    {
     "name": "stdout",
     "output_type": "stream",
     "text": [
      "12\n"
     ]
    }
   ],
   "source": [
    "# 0-D array , are elements in array , each value in array is 0-D array\n",
    "z= np.array(12)\n",
    "print(z)"
   ]
  },
  {
   "cell_type": "code",
   "execution_count": 11,
   "id": "76a005af-13da-4363-aa2f-3d1ba8b83450",
   "metadata": {},
   "outputs": [
    {
     "name": "stdout",
     "output_type": "stream",
     "text": [
      "<class 'numpy.ndarray'>\n"
     ]
    }
   ],
   "source": [
    "print(type(z))"
   ]
  },
  {
   "cell_type": "code",
   "execution_count": 15,
   "id": "e3471714-acb3-4f91-8378-706fd7d2cfb7",
   "metadata": {},
   "outputs": [
    {
     "name": "stdout",
     "output_type": "stream",
     "text": [
      "[ 1 23 34  9]\n"
     ]
    }
   ],
   "source": [
    "# 1 -D array = array that has 0-D arrays as its elements\n",
    "val = np.array([1,23,34,9])\n",
    "print(val)"
   ]
  },
  {
   "cell_type": "code",
   "execution_count": 17,
   "id": "a8066da2-9b91-476f-a876-eb37672c5bdc",
   "metadata": {},
   "outputs": [
    {
     "name": "stdout",
     "output_type": "stream",
     "text": [
      "[[1 2 3]\n",
      " [4 5 6]]\n"
     ]
    }
   ],
   "source": [
    "# 2-D array = containing 2 arrays \n",
    "x = np.array ([[1,2,3],[4,5,6]])\n",
    "print(x)"
   ]
  },
  {
   "cell_type": "code",
   "execution_count": 25,
   "id": "8455d314-da50-4fa7-8986-d256cdfd1774",
   "metadata": {},
   "outputs": [
    {
     "name": "stdout",
     "output_type": "stream",
     "text": [
      "[[ 1  2]\n",
      " [33 44]]\n"
     ]
    }
   ],
   "source": [
    "name = np.array ([[1,2],[33,44]])\n",
    "print(name)"
   ]
  },
  {
   "cell_type": "code",
   "execution_count": 10,
   "id": "b921fd8d-7374-4ebe-a46e-bc0fdcc47841",
   "metadata": {},
   "outputs": [
    {
     "name": "stdout",
     "output_type": "stream",
     "text": [
      "[[[1 2 3]\n",
      "  [4 8 6]\n",
      "  [7 8 9]]]\n"
     ]
    }
   ],
   "source": [
    "# 3-D array with 2-D  array\n",
    "\n",
    "val = np.array([[[1,2,3],[4,8,6],[7,8,9]]])\n",
    "print(val)"
   ]
  },
  {
   "cell_type": "code",
   "execution_count": 15,
   "id": "5d3a7d3a-7e4f-4ded-b53d-49b63f2fefeb",
   "metadata": {},
   "outputs": [
    {
     "name": "stdout",
     "output_type": "stream",
     "text": [
      "0\n",
      "1\n",
      "2\n",
      "3\n"
     ]
    }
   ],
   "source": [
    "# check how many dimensions array have = ndin attribute\n",
    "import numpy as np\n",
    "a=np.array(12)\n",
    "b=np.array([1,2,3])\n",
    "c=np.array([[1,2],[4,5]])\n",
    "d=np.array([[[1,2,3],[4,5,6]],[[7,8,9],[6,7,8]]])\n",
    "\n",
    "print(a.ndim)\n",
    "print(b.ndim)\n",
    "print(c.ndim)\n",
    "print(d.ndim)\n",
    "\n"
   ]
  },
  {
   "cell_type": "code",
   "execution_count": 12,
   "id": "53aa61e0-07eb-43de-80b3-1e32a74c7820",
   "metadata": {},
   "outputs": [
    {
     "name": "stdout",
     "output_type": "stream",
     "text": [
      "[[[[[1 2 3 4]]]]]\n"
     ]
    }
   ],
   "source": [
    "# array with 5 dimensions\n",
    "\n",
    "x = np.array([1,2,3,4],ndmin=5)\n",
    "print(x)"
   ]
  },
  {
   "cell_type": "code",
   "execution_count": 14,
   "id": "74e7162c-a457-4f97-b1e9-c5ef0f7ad650",
   "metadata": {},
   "outputs": [
    {
     "name": "stdout",
     "output_type": "stream",
     "text": [
      "number of dimensions:  5\n"
     ]
    }
   ],
   "source": [
    "print('number of dimensions: ', x.ndim)"
   ]
  },
  {
   "cell_type": "markdown",
   "id": "53fa23aa-dc1d-4572-a134-c29da9926113",
   "metadata": {},
   "source": [
    "# indexing"
   ]
  },
  {
   "cell_type": "code",
   "execution_count": 23,
   "id": "e251161e-2277-46eb-bf66-58ad9fb46782",
   "metadata": {},
   "outputs": [
    {
     "name": "stdout",
     "output_type": "stream",
     "text": [
      "1\n"
     ]
    }
   ],
   "source": [
    "# 1-Darray indexing is same as accessing an array elemment\n",
    "x = np.array([1,2,3,4])\n",
    "print(x[0])"
   ]
  },
  {
   "cell_type": "code",
   "execution_count": 18,
   "id": "a6111fa0-728c-431b-bbc3-557eb0d3fc72",
   "metadata": {},
   "outputs": [
    {
     "name": "stdout",
     "output_type": "stream",
     "text": [
      "[2 3]\n"
     ]
    }
   ],
   "source": [
    "x = np.array([1,2,3,4])\n",
    "print(x[1:3])"
   ]
  },
  {
   "cell_type": "code",
   "execution_count": 20,
   "id": "ba0b932f-8f98-47a1-9764-36dc13389ae0",
   "metadata": {},
   "outputs": [
    {
     "name": "stdout",
     "output_type": "stream",
     "text": [
      "7\n"
     ]
    }
   ],
   "source": [
    "x = np.array([1,2,3,4,5])\n",
    "print(x[2]+x[3])"
   ]
  },
  {
   "cell_type": "code",
   "execution_count": 27,
   "id": "de027df4-9584-4618-bec3-f17ff9f59839",
   "metadata": {},
   "outputs": [
    {
     "name": "stdout",
     "output_type": "stream",
     "text": [
      "2nd element in the first row 2\n"
     ]
    }
   ],
   "source": [
    "# ACCESSING 2-D array\n",
    "\n",
    "y = np.array([[1,2,3,4,5],[6,7,8,9,0]])\n",
    "print('2nd element in the first row',y[0,1])"
   ]
  },
  {
   "cell_type": "code",
   "execution_count": 25,
   "id": "7bf1c41f-ce24-4395-9e26-ff4e8c8ab227",
   "metadata": {},
   "outputs": [
    {
     "name": "stdout",
     "output_type": "stream",
     "text": [
      "2nd element in the first row 0\n"
     ]
    }
   ],
   "source": [
    "print('2nd element in the first row',y[1,4])"
   ]
  },
  {
   "cell_type": "code",
   "execution_count": 29,
   "id": "85973a24-3926-46dc-84d7-c1319d360360",
   "metadata": {},
   "outputs": [
    {
     "name": "stdout",
     "output_type": "stream",
     "text": [
      "5\n"
     ]
    }
   ],
   "source": [
    "# 3-D array indexing\n",
    "\n",
    "x = np.array([[[1,2,3],[3,4,5]],[[6,7,8],[9,0,0]]])\n",
    "print(x[0,1,2])\n",
    "\n",
    "\n"
   ]
  },
  {
   "cell_type": "markdown",
   "id": "7cb91e78-1f47-4404-a6ae-5a51f2b7da6f",
   "metadata": {},
   "source": [
    "# slicing"
   ]
  },
  {
   "cell_type": "code",
   "execution_count": 1,
   "id": "23548687-53e0-4cf5-b1dc-d1f29f7a9a23",
   "metadata": {},
   "outputs": [],
   "source": [
    "#simply means [start:end] , [start:end:step]"
   ]
  },
  {
   "cell_type": "code",
   "execution_count": 4,
   "id": "c11b956b-9ba4-4c8f-bb49-2a165fe6f714",
   "metadata": {},
   "outputs": [
    {
     "name": "stdout",
     "output_type": "stream",
     "text": [
      "[2 3 4 5]\n"
     ]
    }
   ],
   "source": [
    "import numpy as np\n",
    "x =np.array([1,2,3,4,5,6,7,8,9])\n",
    "print(x[1:5])"
   ]
  },
  {
   "cell_type": "code",
   "execution_count": 5,
   "id": "ef341091-a0a2-4edf-95b4-e61a9189e987",
   "metadata": {},
   "outputs": [
    {
     "name": "stdout",
     "output_type": "stream",
     "text": [
      "[5 6 7 8 9]\n"
     ]
    }
   ],
   "source": [
    "print(x[4: ])"
   ]
  },
  {
   "cell_type": "code",
   "execution_count": 6,
   "id": "b11ea6cc-7b71-463b-a51e-d348f5caa23c",
   "metadata": {},
   "outputs": [
    {
     "name": "stdout",
     "output_type": "stream",
     "text": [
      "[1 2 3 4]\n"
     ]
    }
   ],
   "source": [
    "print(x[ :4])"
   ]
  },
  {
   "cell_type": "code",
   "execution_count": 7,
   "id": "ac123560-10ec-4412-8bab-75de3e5cfffb",
   "metadata": {},
   "outputs": [
    {
     "name": "stdout",
     "output_type": "stream",
     "text": [
      "[1 2 3 4 5 6 7 8 9]\n"
     ]
    }
   ],
   "source": [
    "print(x[ : ])"
   ]
  },
  {
   "cell_type": "code",
   "execution_count": 8,
   "id": "52e6b202-119d-4f07-a1b7-5427821ce612",
   "metadata": {},
   "outputs": [],
   "source": [
    "# negative slicing"
   ]
  },
  {
   "cell_type": "code",
   "execution_count": 9,
   "id": "0bbb43ef-f4a4-41a5-9294-5cfeacc20d95",
   "metadata": {},
   "outputs": [
    {
     "name": "stdout",
     "output_type": "stream",
     "text": [
      "[7 8]\n"
     ]
    }
   ],
   "source": [
    "x =np.array([1,2,3,4,5,6,7,8,9])\n",
    "print(x[-3:-1])"
   ]
  },
  {
   "cell_type": "code",
   "execution_count": 10,
   "id": "be8f46d5-781a-474e-a407-ee1866c326e2",
   "metadata": {},
   "outputs": [
    {
     "name": "stdout",
     "output_type": "stream",
     "text": [
      "[5 6 7 8 9]\n"
     ]
    }
   ],
   "source": [
    "print(x[-5: ])"
   ]
  },
  {
   "cell_type": "code",
   "execution_count": 12,
   "id": "52a02aa8-3ee9-475b-8082-110e21f7dc2a",
   "metadata": {},
   "outputs": [
    {
     "name": "stdout",
     "output_type": "stream",
     "text": [
      "[ 66   7 785  54   3  56  36   6   4   6   4   6   4   3  56   3   6   6\n",
      "  45   3]\n"
     ]
    }
   ],
   "source": [
    "x = np.array([10,11,23,45,66,7,785,54,3,56,36,6,4,6,4,6,4,3,56,3,6,6,45,3])\n",
    "print(x[-20: ])\n"
   ]
  },
  {
   "cell_type": "code",
   "execution_count": 13,
   "id": "a2da4b30-8512-450a-8a6f-c6f17c6aa512",
   "metadata": {},
   "outputs": [
    {
     "name": "stdout",
     "output_type": "stream",
     "text": [
      "[2 4]\n"
     ]
    }
   ],
   "source": [
    "x =np.array([1,2,3,4,5,6,7,8,9])\n",
    "print(x[1:5:2])"
   ]
  },
  {
   "cell_type": "code",
   "execution_count": 14,
   "id": "10d6ab1e-3992-4817-97ef-8f989570846a",
   "metadata": {},
   "outputs": [
    {
     "name": "stdout",
     "output_type": "stream",
     "text": [
      "[1 3 5 7 9]\n"
     ]
    }
   ],
   "source": [
    "x =np.array([1,2,3,4,5,6,7,8,9])\n",
    "print(x[ : :2])"
   ]
  },
  {
   "cell_type": "code",
   "execution_count": 15,
   "id": "c91cee60-56be-45d3-9df7-bfce101299b1",
   "metadata": {},
   "outputs": [
    {
     "name": "stdout",
     "output_type": "stream",
     "text": [
      "[1 2 3 4 5 6 7 8 9]\n"
     ]
    }
   ],
   "source": [
    "x =np.array([1,2,3,4,5,6,7,8,9])\n",
    "print(x[ : :1])"
   ]
  },
  {
   "cell_type": "code",
   "execution_count": 16,
   "id": "dfb43023-2620-4df7-a1b1-15fdd96d2779",
   "metadata": {},
   "outputs": [
    {
     "name": "stdout",
     "output_type": "stream",
     "text": [
      "[1 6]\n"
     ]
    }
   ],
   "source": [
    "x =np.array([1,2,3,4,5,6,7,8,9])\n",
    "print(x[ : :5])"
   ]
  },
  {
   "cell_type": "code",
   "execution_count": 17,
   "id": "00d38872-01a7-49da-855c-3815296f0845",
   "metadata": {},
   "outputs": [],
   "source": [
    "# slicing 2-d array"
   ]
  },
  {
   "cell_type": "code",
   "execution_count": 18,
   "id": "303f0654-da0f-4137-90e4-7ea301092c2b",
   "metadata": {},
   "outputs": [
    {
     "name": "stdout",
     "output_type": "stream",
     "text": [
      "[6 7 8 9]\n"
     ]
    }
   ],
   "source": [
    "x =np.array([[1,2,3,4,5],[6,7,8,9,0]])\n",
    "print(x[1,0:4])"
   ]
  },
  {
   "cell_type": "code",
   "execution_count": 22,
   "id": "a928b5e3-26b8-4efb-8107-d39870282952",
   "metadata": {},
   "outputs": [
    {
     "name": "stdout",
     "output_type": "stream",
     "text": [
      "[2 7]\n"
     ]
    }
   ],
   "source": [
    "print(x[0:2,1])"
   ]
  },
  {
   "cell_type": "code",
   "execution_count": 23,
   "id": "80541e94-4076-462f-b396-bd06b2089e52",
   "metadata": {},
   "outputs": [
    {
     "name": "stdout",
     "output_type": "stream",
     "text": [
      "[[2 3 4 5]\n",
      " [7 8 9 0]]\n"
     ]
    }
   ],
   "source": [
    "print(x[0:2,1:5])"
   ]
  },
  {
   "cell_type": "code",
   "execution_count": 24,
   "id": "6174b356-4a4b-41e3-bfdc-8660fc383e8b",
   "metadata": {},
   "outputs": [],
   "source": [
    "# slicing 3-d"
   ]
  },
  {
   "cell_type": "code",
   "execution_count": 26,
   "id": "a2edf5c4-029d-4a7c-91e9-faf913747c9d",
   "metadata": {},
   "outputs": [
    {
     "name": "stdout",
     "output_type": "stream",
     "text": [
      "[[2 8 8]]\n"
     ]
    }
   ],
   "source": [
    "val = np.array([[[1,2,3],[4,8,6],[7,8,9]]])\n",
    "print(val[0:3,0:3,1])"
   ]
  },
  {
   "cell_type": "code",
   "execution_count": 28,
   "id": "b5ba833f-aac4-469d-9eed-66ae5fa40381",
   "metadata": {},
   "outputs": [
    {
     "name": "stdout",
     "output_type": "stream",
     "text": [
      "[[[[1 2 3 4]]]]\n"
     ]
    }
   ],
   "source": [
    "x = np.array([1,2,3,4],ndmin=5)\n",
    "print(x[0])"
   ]
  },
  {
   "cell_type": "markdown",
   "id": "aaca337a-329b-41e2-8e42-afb6120c1db0",
   "metadata": {},
   "source": [
    "# data type numpy"
   ]
  },
  {
   "cell_type": "code",
   "execution_count": 1,
   "id": "204381c3-a05e-4c3a-95f0-5e6eaf676c1d",
   "metadata": {},
   "outputs": [],
   "source": [
    "# i = integer\n",
    "# u = unsigned integer\n",
    "# b = boolean\n",
    "# f = float\n",
    "# c = complex float\n",
    "# m = timedelta\n",
    "# M = datetime\n",
    "# O = object\n",
    "# S = string\n",
    "# U = unicode string\n",
    "# V = memory\n"
   ]
  },
  {
   "cell_type": "code",
   "execution_count": 2,
   "id": "950e51d2-67c5-44c6-89f5-057cb2444119",
   "metadata": {},
   "outputs": [
    {
     "name": "stdout",
     "output_type": "stream",
     "text": [
      "int32\n"
     ]
    }
   ],
   "source": [
    "import numpy as np\n",
    "x = np.array([1,2,3,4])\n",
    "print(x.dtype)"
   ]
  },
  {
   "cell_type": "code",
   "execution_count": 3,
   "id": "db1430a6-437c-4320-af83-f2d24ad0498f",
   "metadata": {},
   "outputs": [
    {
     "name": "stdout",
     "output_type": "stream",
     "text": [
      "<U6\n"
     ]
    }
   ],
   "source": [
    "x = np.array(['jack','zain','joseph'])\n",
    "print(x.dtype)"
   ]
  },
  {
   "cell_type": "code",
   "execution_count": 4,
   "id": "54c21710-2351-4080-bb0a-edc7c968b49a",
   "metadata": {},
   "outputs": [
    {
     "name": "stdout",
     "output_type": "stream",
     "text": [
      "[b'1' b'2' b'3' b'4']\n",
      "|S1\n"
     ]
    }
   ],
   "source": [
    "x = np.array([1,2,3,4], dtype='S')\n",
    "print(x)\n",
    "print(x.dtype)"
   ]
  },
  {
   "cell_type": "code",
   "execution_count": 6,
   "id": "56ca0dbe-b78a-4f8e-af71-7b337ea86fa7",
   "metadata": {},
   "outputs": [
    {
     "name": "stdout",
     "output_type": "stream",
     "text": [
      "[1 2 3 4]\n",
      "int32\n"
     ]
    }
   ],
   "source": [
    "x = np.array([1,2,3,4], dtype='i4')\n",
    "print(x)\n",
    "print(x.dtype)"
   ]
  },
  {
   "cell_type": "code",
   "execution_count": 10,
   "id": "c0061bae-53e4-45bd-b9f1-7c57968e24f1",
   "metadata": {},
   "outputs": [
    {
     "name": "stdout",
     "output_type": "stream",
     "text": [
      "int32\n"
     ]
    }
   ],
   "source": [
    "x = np.array(['2','3','4'],dtype='i')\n",
    "print(x.dtype)"
   ]
  },
  {
   "cell_type": "code",
   "execution_count": 12,
   "id": "b70c9700-5b18-49dd-9e1d-5babb8a1fe0b",
   "metadata": {},
   "outputs": [
    {
     "name": "stdout",
     "output_type": "stream",
     "text": [
      "[1 2 3 4]\n",
      "int32\n"
     ]
    }
   ],
   "source": [
    "x = np.array([1.1,2.2,3.3,4.4])\n",
    "y = x.astype('i')\n",
    "print(y)\n",
    "print(y.dtype)\n"
   ]
  },
  {
   "cell_type": "code",
   "execution_count": 16,
   "id": "740edc91-6caa-4a80-9649-266219c0a7d2",
   "metadata": {},
   "outputs": [
    {
     "name": "stdout",
     "output_type": "stream",
     "text": [
      "[1. 2. 3. 4.]\n",
      "float64\n"
     ]
    }
   ],
   "source": [
    "x = np.array([1,2,3,4])\n",
    "y = x.astype(float)\n",
    "print(y)\n",
    "print(y.dtype)"
   ]
  },
  {
   "cell_type": "markdown",
   "id": "d5127b96-3fc8-4571-893c-620058b235c0",
   "metadata": {},
   "source": [
    "# Shape of array"
   ]
  },
  {
   "cell_type": "code",
   "execution_count": 12,
   "id": "cff5bc09-e0dc-49df-807f-73fa01c3f53e",
   "metadata": {},
   "outputs": [
    {
     "name": "stdout",
     "output_type": "stream",
     "text": [
      "(2, 3)\n"
     ]
    }
   ],
   "source": [
    "x = np.array ([[1,2,3],[4,5,6]])\n",
    "print(x.shape)\n",
    "\n",
    "#it means that array is 2-D and has 3 elements"
   ]
  },
  {
   "cell_type": "code",
   "execution_count": 15,
   "id": "e371039e-e6dc-49c0-a421-9fdc3abf8c46",
   "metadata": {},
   "outputs": [
    {
     "name": "stdout",
     "output_type": "stream",
     "text": [
      "[[[[[1 2 3]]]]]\n",
      "(1, 1, 1, 1, 3)\n"
     ]
    }
   ],
   "source": [
    "x = np.array ([1,2,3],ndmin=5)\n",
    "print(x)\n",
    "print(x.shape)"
   ]
  },
  {
   "cell_type": "code",
   "execution_count": 20,
   "id": "8b0313ea-fc0e-4269-ba03-72a3750092d0",
   "metadata": {},
   "outputs": [
    {
     "name": "stdout",
     "output_type": "stream",
     "text": [
      "(2, 2, 3)\n"
     ]
    }
   ],
   "source": [
    "x = np.array ([[[1,2,3],[4,5,6]],[[4,5,6],[5,6,7]]])\n",
    "print(x.shape)"
   ]
  },
  {
   "cell_type": "code",
   "execution_count": 21,
   "id": "5314f752-f8f7-4bcd-9cec-f68ea261db25",
   "metadata": {},
   "outputs": [],
   "source": [
    "# reshaping from 1-D to 2-D"
   ]
  },
  {
   "cell_type": "code",
   "execution_count": 23,
   "id": "fa10dece-bd48-4a0a-9cf7-39983a841492",
   "metadata": {},
   "outputs": [
    {
     "name": "stdout",
     "output_type": "stream",
     "text": [
      "[[ 1  2  3  4  5  6]\n",
      " [ 7  8  9  0 11 12]]\n"
     ]
    }
   ],
   "source": [
    "x= np.array([1,2,3,4,5,6,7,8,9,0,11,12])\n",
    "y= x.reshape(2,6)\n",
    "print(y)"
   ]
  },
  {
   "cell_type": "code",
   "execution_count": 28,
   "id": "a7dbb9af-4cd7-4c01-b2af-c04d9052dd36",
   "metadata": {},
   "outputs": [
    {
     "name": "stdout",
     "output_type": "stream",
     "text": [
      "[[ 1  2]\n",
      " [ 3  4]\n",
      " [ 5  6]\n",
      " [ 7  8]\n",
      " [ 9  0]\n",
      " [11 12]]\n"
     ]
    }
   ],
   "source": [
    "x= np.array([1,2,3,4,5,6,7,8,9,0,11,12])\n",
    "y= x.reshape(6,2)\n",
    "print(y)"
   ]
  },
  {
   "cell_type": "code",
   "execution_count": 27,
   "id": "4ecaa633-0ec6-4ea0-b742-dd6e8d84cbe7",
   "metadata": {},
   "outputs": [
    {
     "name": "stdout",
     "output_type": "stream",
     "text": [
      "[[[ 1  2]\n",
      "  [ 3  4]\n",
      "  [ 5  6]]\n",
      "\n",
      " [[ 7  8]\n",
      "  [ 9  0]\n",
      "  [11 12]]]\n"
     ]
    }
   ],
   "source": [
    "# 1-D to 3-D\n",
    "\n",
    "x= np.array([1,2,3,4,5,6,7,8,9,0,11,12])\n",
    "y= x.reshape(2,3,2)\n",
    "print(y)"
   ]
  },
  {
   "cell_type": "code",
   "execution_count": 52,
   "id": "680f470b-b322-4c34-84ec-5db1f7d269ee",
   "metadata": {},
   "outputs": [],
   "source": [
    "# copy view = pending\n"
   ]
  },
  {
   "cell_type": "markdown",
   "id": "4d82170a-8781-4d0d-b151-079054920eca",
   "metadata": {},
   "source": [
    "# Iteration"
   ]
  },
  {
   "cell_type": "code",
   "execution_count": 1,
   "id": "367f79a9-1fcc-4a27-998a-b9eefc26f78a",
   "metadata": {},
   "outputs": [
    {
     "name": "stdout",
     "output_type": "stream",
     "text": [
      "1\n",
      "2\n",
      "3\n"
     ]
    }
   ],
   "source": [
    "import numpy as np\n",
    "x = np.array([1,2,3])\n",
    "for i in x :\n",
    "    print(i)"
   ]
  },
  {
   "cell_type": "code",
   "execution_count": 2,
   "id": "79471845-c2c6-4be0-842d-f31ba2f642d3",
   "metadata": {},
   "outputs": [
    {
     "name": "stdout",
     "output_type": "stream",
     "text": [
      "a\n",
      "b\n",
      "t\n"
     ]
    }
   ],
   "source": [
    "y = np.array(['a','b','t'])\n",
    "for i in y :\n",
    "    print(i)\n",
    "    "
   ]
  },
  {
   "cell_type": "code",
   "execution_count": 4,
   "id": "ab4d6aa3-e39f-4c0e-9679-d67d0ace1e8b",
   "metadata": {},
   "outputs": [
    {
     "name": "stdout",
     "output_type": "stream",
     "text": [
      "[1 2 3]\n",
      "[4 5 6]\n"
     ]
    }
   ],
   "source": [
    "# 2 -D itteration\n",
    "x = np.array([[1,2,3],[4,5,6]])\n",
    "for i in x :\n",
    "    print(i)"
   ]
  },
  {
   "cell_type": "code",
   "execution_count": 5,
   "id": "1a7a69b5-b420-492c-8a6d-b5ea3c84117c",
   "metadata": {},
   "outputs": [
    {
     "name": "stdout",
     "output_type": "stream",
     "text": [
      "[[1 2 3]\n",
      " [4 5 6]]\n"
     ]
    }
   ],
   "source": [
    "x = np.array([[1,2,3],[4,5,6]])\n",
    "print(x)"
   ]
  },
  {
   "cell_type": "code",
   "execution_count": 6,
   "id": "a8ff8dd8-4ca1-40d4-a21f-bc95b4e91de9",
   "metadata": {},
   "outputs": [
    {
     "name": "stdout",
     "output_type": "stream",
     "text": [
      "1\n",
      "2\n",
      "3\n",
      "4\n",
      "5\n",
      "6\n"
     ]
    }
   ],
   "source": [
    "x = np.array([[1,2,3],[4,5,6]])\n",
    "for i in x :\n",
    "    for a in i :\n",
    "        print(a)"
   ]
  },
  {
   "cell_type": "code",
   "execution_count": 8,
   "id": "5014933a-e41d-4e44-8927-99669987b41f",
   "metadata": {},
   "outputs": [
    {
     "name": "stdout",
     "output_type": "stream",
     "text": [
      "1\n",
      "2\n",
      "3\n",
      "4\n",
      "5\n",
      "6\n",
      "7\n",
      "8\n",
      "9\n",
      "11\n",
      "12\n",
      "13\n"
     ]
    }
   ],
   "source": [
    "x = np.array([[[1,2,3],[4,5,6],[7,8,9],[11,12,13]]])\n",
    "for i in x :\n",
    "    for a in i:\n",
    "        for b in a:\n",
    "            print(b)"
   ]
  },
  {
   "cell_type": "code",
   "execution_count": 9,
   "id": "cd4395aa-0b76-4188-a381-4e37bc34eb68",
   "metadata": {},
   "outputs": [
    {
     "name": "stdout",
     "output_type": "stream",
     "text": [
      "1\n",
      "2\n",
      "3\n",
      "4\n",
      "5\n",
      "6\n",
      "7\n",
      "8\n"
     ]
    }
   ],
   "source": [
    "# itterating arrays using nditer() function\n",
    "\n",
    "x = np.array([[[1,2],[3,4],[5,6],[7,8,]]])\n",
    "for i in np.nditer (x):\n",
    "    print(i)\n"
   ]
  },
  {
   "cell_type": "code",
   "execution_count": 10,
   "id": "4f6c0107-6465-4ec5-ada8-5d7f14aa7164",
   "metadata": {},
   "outputs": [
    {
     "name": "stdout",
     "output_type": "stream",
     "text": [
      "1\n",
      "2\n",
      "3\n",
      "4\n",
      "5\n",
      "6\n",
      "7\n",
      "8\n",
      "9\n",
      "11\n",
      "12\n",
      "13\n",
      "1\n",
      "2\n",
      "3\n",
      "4\n",
      "5\n",
      "6\n"
     ]
    }
   ],
   "source": [
    "x = np.array([[[1,2,3],[4,5,6],[7,8,9],[11,12,13],[1,2,3],[4,5,6]]])\n",
    "for i in np.nditer(x):\n",
    "    print(i)"
   ]
  },
  {
   "cell_type": "code",
   "execution_count": 11,
   "id": "d3562d4c-30cd-4fe4-a65d-02a439383356",
   "metadata": {},
   "outputs": [
    {
     "name": "stdout",
     "output_type": "stream",
     "text": [
      "1\n",
      "3\n",
      "4\n",
      "6\n"
     ]
    }
   ],
   "source": [
    "x = np.array([[1,2,3,5],[4,5,6,7]])\n",
    "\n",
    "for i in np.nditer(x[:, ::2]):\n",
    "    print(i)"
   ]
  },
  {
   "cell_type": "markdown",
   "id": "367d9954-cc89-4be1-b0f2-edd20bbcf407",
   "metadata": {},
   "source": [
    "# joining the array we pass concatenate"
   ]
  },
  {
   "cell_type": "code",
   "execution_count": 2,
   "id": "944cbbc0-e911-4881-aae9-ae48db20166f",
   "metadata": {},
   "outputs": [
    {
     "name": "stdout",
     "output_type": "stream",
     "text": [
      "[1 2 3 4 5 6]\n",
      "1\n",
      "2\n",
      "3\n",
      "4\n",
      "5\n",
      "6\n"
     ]
    }
   ],
   "source": [
    "import numpy as np\n",
    "x = np.array([1,2,3])\n",
    "y = np.array([4,5,6])\n",
    "z = np.concatenate((x,y))\n",
    "print(z)\n",
    "for i in z :\n",
    "    print(i)"
   ]
  },
  {
   "cell_type": "code",
   "execution_count": 4,
   "id": "650674d9-0a51-4799-a833-2fa5f1660a60",
   "metadata": {},
   "outputs": [
    {
     "name": "stdout",
     "output_type": "stream",
     "text": [
      "[[1 2 4 5]\n",
      " [4 5 6 7]]\n"
     ]
    }
   ],
   "source": [
    "# 2-D joining along rows(axis=1)\n",
    "\n",
    "x = np.array([[1,2],[4,5]])\n",
    "y = np.array([[4,5],[6,7]])\n",
    "z = np.concatenate((x,y), axis=1)\n",
    "print(z)\n"
   ]
  },
  {
   "cell_type": "code",
   "execution_count": 6,
   "id": "70db3ca2-606f-4d91-9b26-b31bcb0036cd",
   "metadata": {},
   "outputs": [
    {
     "name": "stdout",
     "output_type": "stream",
     "text": [
      "[[1 2]\n",
      " [4 5]\n",
      " [4 5]\n",
      " [6 7]]\n"
     ]
    }
   ],
   "source": [
    "x = np.array([[1,2],[4,5]])\n",
    "y = np.array([[4,5],[6,7]])\n",
    "z = np.concatenate((x,y))\n",
    "print(z)"
   ]
  },
  {
   "cell_type": "code",
   "execution_count": 7,
   "id": "54ee5d68-da95-47f9-bebf-153cb9516dd5",
   "metadata": {},
   "outputs": [
    {
     "name": "stdout",
     "output_type": "stream",
     "text": [
      "[[1 4]\n",
      " [2 5]]\n"
     ]
    }
   ],
   "source": [
    "# stack function\n",
    "\n",
    "x = np.array([1,2])\n",
    "y = np.array([4,5])\n",
    "z = np.stack((x,y), axis=1)\n",
    "print(z)"
   ]
  },
  {
   "cell_type": "code",
   "execution_count": 10,
   "id": "41dbe887-afbf-4437-8c3d-3bf30667f0dc",
   "metadata": {},
   "outputs": [
    {
     "name": "stdout",
     "output_type": "stream",
     "text": [
      "[1 2 4 5]\n"
     ]
    }
   ],
   "source": [
    "# stacking along rows = hstack(it prints all without indexing)\n",
    "x = np.array([1,2])\n",
    "y = np.array([4,5])\n",
    "z = np.hstack((x,y))\n",
    "print(z)"
   ]
  },
  {
   "cell_type": "code",
   "execution_count": 11,
   "id": "034381e2-49b1-45db-89bf-3c7cb713c595",
   "metadata": {},
   "outputs": [
    {
     "name": "stdout",
     "output_type": "stream",
     "text": [
      "[[1 2]\n",
      " [4 5]]\n"
     ]
    }
   ],
   "source": [
    "# stacking along columns = vstack\n",
    "\n",
    "x = np.array([1,2])\n",
    "y = np.array([4,5])\n",
    "z = np.vstack((x,y))\n",
    "print(z)"
   ]
  },
  {
   "cell_type": "code",
   "execution_count": 12,
   "id": "53054ebc-0cb5-4f59-a47f-354eb476bae8",
   "metadata": {},
   "outputs": [
    {
     "name": "stdout",
     "output_type": "stream",
     "text": [
      "[[[1 4]\n",
      "  [2 5]]]\n"
     ]
    }
   ],
   "source": [
    "# stacking along hieght = dstack\n",
    "\n",
    "x = np.array([1,2])\n",
    "y = np.array([4,5])\n",
    "z = np.dstack((x,y))\n",
    "print(z)"
   ]
  },
  {
   "cell_type": "markdown",
   "id": "6ad8c540-9b73-4928-975d-7f64a66fbdaf",
   "metadata": {},
   "source": [
    "# spliting"
   ]
  },
  {
   "cell_type": "code",
   "execution_count": 14,
   "id": "d54fd9ab-49d5-46b8-9f62-b19804f7afa7",
   "metadata": {},
   "outputs": [],
   "source": [
    "# fun = array_split()\n"
   ]
  },
  {
   "cell_type": "code",
   "execution_count": 15,
   "id": "b8f4c91a-188d-4859-bbc8-3a1cbb8088a4",
   "metadata": {},
   "outputs": [
    {
     "name": "stdout",
     "output_type": "stream",
     "text": [
      "[array([1, 2]), array([3, 4]), array([5, 6])]\n"
     ]
    }
   ],
   "source": [
    "x = np.array([1,2,3,4,5,6])\n",
    "y = np.array_split(x, 3)\n",
    "print(y)\n"
   ]
  },
  {
   "cell_type": "code",
   "execution_count": 16,
   "id": "5937d83d-6f82-4d18-adc0-2440250f7b4b",
   "metadata": {},
   "outputs": [
    {
     "name": "stdout",
     "output_type": "stream",
     "text": [
      "[array([1, 2]), array([3, 4]), array([5]), array([6])]\n"
     ]
    }
   ],
   "source": [
    "x = np.array([1,2,3,4,5,6])\n",
    "y = np.array_split(x, 4)\n",
    "print(y)"
   ]
  },
  {
   "cell_type": "code",
   "execution_count": 20,
   "id": "5680746e-ceaf-4306-96b7-aaac0989a65c",
   "metadata": {},
   "outputs": [
    {
     "name": "stdout",
     "output_type": "stream",
     "text": [
      "[array([1, 2, 3, 4, 5, 6])]\n"
     ]
    }
   ],
   "source": [
    "x = np.array([1,2,3,4,5,6])\n",
    "y = np.array_split(x,1)\n",
    "print(y)\n"
   ]
  },
  {
   "cell_type": "code",
   "execution_count": 28,
   "id": "07b7ef97-751b-4ff7-802e-bf74f3b6a26f",
   "metadata": {},
   "outputs": [
    {
     "name": "stdout",
     "output_type": "stream",
     "text": [
      "[array([1, 2]), array([3, 4]), array([5, 6])]\n",
      "[1 2]\n",
      "[5 6]\n"
     ]
    }
   ],
   "source": [
    "x = np.array([1,2,3,4,5,6])\n",
    "y = np.array_split(x, 3)\n",
    "print(y)\n",
    "print(y[0])\n",
    "print(y[2])"
   ]
  },
  {
   "cell_type": "code",
   "execution_count": 30,
   "id": "e414ae69-540b-40c0-bc40-8cf4ba98a265",
   "metadata": {},
   "outputs": [
    {
     "name": "stdout",
     "output_type": "stream",
     "text": [
      "[array([[1, 2]]), array([[3, 4]]), array([[5, 6]]), array([], shape=(0, 2), dtype=int32)]\n"
     ]
    }
   ],
   "source": [
    "#split 2-D\n",
    "\n",
    "x = np.array([[1,2],[3,4],[5,6]])\n",
    "y = np.array_split(x, 4)\n",
    "print(y)"
   ]
  },
  {
   "cell_type": "code",
   "execution_count": 32,
   "id": "037eba23-a406-4e9a-bac6-5fd8298f21a0",
   "metadata": {},
   "outputs": [
    {
     "name": "stdout",
     "output_type": "stream",
     "text": [
      "[array([[1, 2, 4]]), array([[5, 3, 4]]), array([[6, 5, 6]]), array([[12, 13, 14]])]\n"
     ]
    }
   ],
   "source": [
    "x = np.array([[1,2,4],[5,3,4],[6,5,6],[12,13,14]])\n",
    "y = np.array_split(x, 4)\n",
    "print(y)\n"
   ]
  },
  {
   "cell_type": "code",
   "execution_count": 33,
   "id": "1927a20f-275a-4580-b269-e89e7ad0a13f",
   "metadata": {},
   "outputs": [
    {
     "name": "stdout",
     "output_type": "stream",
     "text": [
      "[array([[ 1],\n",
      "       [ 5],\n",
      "       [ 6],\n",
      "       [12]]), array([[ 2],\n",
      "       [ 3],\n",
      "       [ 5],\n",
      "       [13]]), array([[ 4],\n",
      "       [ 4],\n",
      "       [ 6],\n",
      "       [14]]), array([], shape=(4, 0), dtype=int32)]\n"
     ]
    }
   ],
   "source": [
    "x = np.array([[1,2,4],[5,3,4],[6,5,6],[12,13,14]])\n",
    "y = np.array_split(x, 4 , axis =1)\n",
    "print(y)"
   ]
  },
  {
   "cell_type": "code",
   "execution_count": 34,
   "id": "476bf0e2-7211-4334-b1c2-40fff22ec55d",
   "metadata": {},
   "outputs": [
    {
     "name": "stdout",
     "output_type": "stream",
     "text": [
      "[array([[1, 2, 4],\n",
      "       [5, 3, 4]]), array([[6, 5, 6]]), array([[12, 13, 14]])]\n"
     ]
    }
   ],
   "source": [
    "x = np.array([[1,2,4],[5,3,4],[6,5,6],[12,13,14]])\n",
    "y = np.array_split(x, 3)\n",
    "print(y)"
   ]
  },
  {
   "cell_type": "code",
   "execution_count": 35,
   "id": "d5cb9317-0d4d-4a43-b0a5-2ae4a603cb19",
   "metadata": {},
   "outputs": [
    {
     "name": "stdout",
     "output_type": "stream",
     "text": [
      "[array([[ 1],\n",
      "       [ 5],\n",
      "       [ 6],\n",
      "       [12]]), array([[ 2],\n",
      "       [ 3],\n",
      "       [ 5],\n",
      "       [13]]), array([[ 4],\n",
      "       [ 4],\n",
      "       [ 6],\n",
      "       [14]])]\n"
     ]
    }
   ],
   "source": [
    "x = np.array([[1,2,4],[5,3,4],[6,5,6],[12,13,14]])\n",
    "y = np.array_split(x, 3, axis =1)\n",
    "print(y)"
   ]
  },
  {
   "cell_type": "code",
   "execution_count": 37,
   "id": "f0da6162-79d7-40b1-955c-0929977b09ad",
   "metadata": {},
   "outputs": [
    {
     "name": "stdout",
     "output_type": "stream",
     "text": [
      "[array([[ 1],\n",
      "       [ 5],\n",
      "       [ 6],\n",
      "       [12]]), array([[ 2],\n",
      "       [ 3],\n",
      "       [ 5],\n",
      "       [13]]), array([[ 4],\n",
      "       [ 4],\n",
      "       [ 6],\n",
      "       [14]])]\n"
     ]
    }
   ],
   "source": [
    "x = np.array([[1,2,4],[5,3,4],[6,5,6],[12,13,14]])\n",
    "y = np.hsplit(x, 3)\n",
    "print(y)"
   ]
  },
  {
   "cell_type": "markdown",
   "id": "e327f57a-c6cb-4af5-aa67-9d19497c4b6b",
   "metadata": {},
   "source": [
    "# search a certain value (sort)"
   ]
  },
  {
   "cell_type": "code",
   "execution_count": 38,
   "id": "e7209408-1a17-4f07-8024-4b2035f50562",
   "metadata": {},
   "outputs": [],
   "source": [
    "# fun = where()"
   ]
  },
  {
   "cell_type": "code",
   "execution_count": 39,
   "id": "56c91b9a-4893-4e32-8776-eb52ba7ad04d",
   "metadata": {},
   "outputs": [
    {
     "name": "stdout",
     "output_type": "stream",
     "text": [
      "(array([3, 4], dtype=int64),)\n"
     ]
    }
   ],
   "source": [
    "x = np.array([1,2,3,4,4,5,6])\n",
    "y = np.where(x==4)\n",
    "print(y)"
   ]
  },
  {
   "cell_type": "code",
   "execution_count": 44,
   "id": "5599eb46-2453-4800-bbde-c2b50bd90f02",
   "metadata": {},
   "outputs": [
    {
     "name": "stdout",
     "output_type": "stream",
     "text": [
      "(array([1, 3, 4, 6], dtype=int64),)\n"
     ]
    }
   ],
   "source": [
    "# print even numbers\n",
    "\n",
    "x = np.array([1,2,3,4,4,5,6])\n",
    "y = np.where(x%2==0)\n",
    "print(y)"
   ]
  },
  {
   "cell_type": "code",
   "execution_count": 45,
   "id": "0cd3e405-b81b-4065-9b71-6d476f1cd0c7",
   "metadata": {},
   "outputs": [
    {
     "name": "stdout",
     "output_type": "stream",
     "text": [
      "(array([0, 2, 5], dtype=int64),)\n"
     ]
    }
   ],
   "source": [
    "# print odd\n",
    "\n",
    "x = np.array([1,2,3,4,4,5,6])\n",
    "y = np.where(x%2==1)\n",
    "print(y)"
   ]
  },
  {
   "cell_type": "code",
   "execution_count": 46,
   "id": "ae5cf3ec-4fb1-4da0-9f73-11ede3233ce2",
   "metadata": {},
   "outputs": [],
   "source": [
    "# searchsorted() = binary search"
   ]
  },
  {
   "cell_type": "code",
   "execution_count": 47,
   "id": "c571d8df-03e7-429d-969b-d27b41183559",
   "metadata": {},
   "outputs": [
    {
     "name": "stdout",
     "output_type": "stream",
     "text": [
      "1\n"
     ]
    }
   ],
   "source": [
    "\n",
    "x = np.array([6,7,8,9])\n",
    "y = np.searchsorted(x,7)\n",
    "print(y)"
   ]
  },
  {
   "cell_type": "code",
   "execution_count": 50,
   "id": "b90ff7e7-4989-4b1c-912d-588481d79cac",
   "metadata": {},
   "outputs": [
    {
     "name": "stdout",
     "output_type": "stream",
     "text": [
      "2\n"
     ]
    }
   ],
   "source": [
    "x = np.array([6,7,8,9])\n",
    "y = np.searchsorted(x,7,side='right')\n",
    "print(y)"
   ]
  },
  {
   "cell_type": "code",
   "execution_count": 54,
   "id": "a480a855-8486-4476-8989-c322909508d6",
   "metadata": {},
   "outputs": [
    {
     "name": "stdout",
     "output_type": "stream",
     "text": [
      "[1 7 8]\n"
     ]
    }
   ],
   "source": [
    "# search multiple values = insert values\n",
    "\n",
    "x = np.array([1,2,3,4,5,6,7,9])\n",
    "y = np.searchsorted(x,[2,8,10])\n",
    "print(y)"
   ]
  },
  {
   "cell_type": "code",
   "execution_count": 3,
   "id": "07995eb4-4042-4973-ad3f-44989d2ef822",
   "metadata": {},
   "outputs": [
    {
     "name": "stdout",
     "output_type": "stream",
     "text": [
      "[2 3 5 7 9]\n"
     ]
    }
   ],
   "source": [
    "# sorting means ordering in any order\n",
    "#fun = sort()\n",
    "\n",
    "import numpy as np\n",
    "x =np.array([3,5,2,7,9])\n",
    "print(np.sort(x))"
   ]
  },
  {
   "cell_type": "code",
   "execution_count": 4,
   "id": "814be105-4642-42d7-9144-7895e565c3b0",
   "metadata": {},
   "outputs": [
    {
     "name": "stdout",
     "output_type": "stream",
     "text": [
      "['apple' 'banana' 'grape' 'mango']\n"
     ]
    }
   ],
   "source": [
    "x =np.array(['banana','apple','grape','mango'])\n",
    "print(np.sort(x))"
   ]
  },
  {
   "cell_type": "code",
   "execution_count": 6,
   "id": "3b2017e5-5ce1-41f0-a201-546270059ba4",
   "metadata": {},
   "outputs": [
    {
     "name": "stdout",
     "output_type": "stream",
     "text": [
      "[False  True  True]\n"
     ]
    }
   ],
   "source": [
    "x =np.array([True,False,True])\n",
    "print(np.sort(x))"
   ]
  },
  {
   "cell_type": "code",
   "execution_count": 7,
   "id": "f11af8ac-9d19-4f32-9d4a-2e8a5b506e14",
   "metadata": {},
   "outputs": [
    {
     "name": "stdout",
     "output_type": "stream",
     "text": [
      "[[ 2  3  5  7  9]\n",
      " [ 6  7  8  9 10]]\n"
     ]
    }
   ],
   "source": [
    "#2-d array\n",
    "\n",
    "x =np.array([[3,5,2,7,9],[6,7,8,9,10]])\n",
    "print(np.sort(x))"
   ]
  },
  {
   "cell_type": "code",
   "execution_count": 10,
   "id": "f7cfecb0-c940-4898-952b-4d81c11f2efb",
   "metadata": {},
   "outputs": [
    {
     "name": "stdout",
     "output_type": "stream",
     "text": [
      "[41 43]\n"
     ]
    }
   ],
   "source": [
    "#getting elenments of existing array and creating new array is filtering\n",
    "\n",
    "x = np.array([41,42,43,44])\n",
    "y = [True,False,True,False]\n",
    "z = x[y]\n",
    "print(z)\n"
   ]
  },
  {
   "cell_type": "code",
   "execution_count": 16,
   "id": "b330823b-775c-4d3a-a1dc-673761eee638",
   "metadata": {},
   "outputs": [
    {
     "name": "stdout",
     "output_type": "stream",
     "text": [
      "[False, False, True, True]\n",
      "[43 44]\n"
     ]
    }
   ],
   "source": [
    "import numpy as np\n",
    "x = np.array([41,42,43,44])\n",
    "empty = []\n",
    "for i in x :\n",
    "    if i >42:\n",
    "        empty.append(True)\n",
    "    else :\n",
    "        empty.append(False)\n",
    "        \n",
    "xnew = x[empty]\n",
    "print(empty)\n",
    "print(xnew)"
   ]
  },
  {
   "cell_type": "code",
   "execution_count": 19,
   "id": "dd0db2c4-a303-4fb3-afe9-542c97d75511",
   "metadata": {},
   "outputs": [
    {
     "name": "stdout",
     "output_type": "stream",
     "text": [
      "[False, True, False, True, False, True, False]\n",
      "[2 4 6]\n"
     ]
    }
   ],
   "source": [
    "x = np.array([1,2,3,4,5,6,7])\n",
    "empty = []\n",
    "for i in x:\n",
    "    if i%2==0:\n",
    "        empty.append(True)\n",
    "    else :\n",
    "        empty.append(False)\n",
    "xnew = x[empty]\n",
    "print(empty)\n",
    "print(xnew)"
   ]
  },
  {
   "cell_type": "code",
   "execution_count": 22,
   "id": "e153cba2-2a1b-4f0c-b7f1-25a3797f9ddf",
   "metadata": {},
   "outputs": [
    {
     "name": "stdout",
     "output_type": "stream",
     "text": [
      "[False False  True  True]\n",
      "[43 44]\n"
     ]
    }
   ],
   "source": [
    "#also filter elements directly from array(shortcut method)\n",
    "\n",
    "x = np.array([41,42,43,44])\n",
    "empty = x>42\n",
    "xnew = x[empty]\n",
    "print(empty)\n",
    "print(xnew)"
   ]
  },
  {
   "cell_type": "code",
   "execution_count": 24,
   "id": "58bd88a6-03d4-4aaf-bdc6-b88f27949ac9",
   "metadata": {},
   "outputs": [
    {
     "name": "stdout",
     "output_type": "stream",
     "text": [
      "[False  True False  True False  True False]\n",
      "[2 4 6]\n"
     ]
    }
   ],
   "source": [
    "#line 19\n",
    "x = np.array([1,2,3,4,5,6,7])\n",
    "empty = x%2==0\n",
    "\n",
    "\n",
    "xnew = x[empty]\n",
    "print(empty)\n",
    "print(xnew)"
   ]
  },
  {
   "cell_type": "markdown",
   "id": "a634a392-6312-4742-b5f8-bf589b307a66",
   "metadata": {},
   "source": [
    "# Random number"
   ]
  },
  {
   "cell_type": "code",
   "execution_count": 5,
   "id": "02c26c8b-f957-418b-803b-7d46e344325a",
   "metadata": {},
   "outputs": [
    {
     "name": "stdout",
     "output_type": "stream",
     "text": [
      "16\n"
     ]
    }
   ],
   "source": [
    "# random number\n",
    "\n",
    "from numpy import random\n",
    "x = random.randint(100)\n",
    "print(x)"
   ]
  },
  {
   "cell_type": "code",
   "execution_count": 9,
   "id": "e9bc1254-e554-484f-a7ff-9d1d7600ea3e",
   "metadata": {},
   "outputs": [
    {
     "name": "stdout",
     "output_type": "stream",
     "text": [
      "0.6192173011279253\n"
     ]
    }
   ],
   "source": [
    "#for float value use rand()\n",
    "from numpy import random\n",
    "x = random.rand()\n",
    "print(x)"
   ]
  },
  {
   "cell_type": "code",
   "execution_count": 12,
   "id": "c43e0387-65f6-4ae4-8dd6-de74f71e8550",
   "metadata": {},
   "outputs": [
    {
     "name": "stdout",
     "output_type": "stream",
     "text": [
      "[35 70 15 81 84]\n"
     ]
    }
   ],
   "source": [
    "from numpy import random\n",
    "x = random.randint(100,size=(5))\n",
    "print(x)"
   ]
  },
  {
   "cell_type": "code",
   "execution_count": 14,
   "id": "b5fcd1a4-26aa-411d-9276-bb3c88d103a2",
   "metadata": {},
   "outputs": [
    {
     "name": "stdout",
     "output_type": "stream",
     "text": [
      "[[28 49 12 56 60]\n",
      " [17 73 52 68 58]\n",
      " [21 10 78 48 48]]\n"
     ]
    }
   ],
   "source": [
    "#2-D array\n",
    "\n",
    "from numpy import random\n",
    "x = random.randint(100,size=(3,5))\n",
    "print(x)"
   ]
  },
  {
   "cell_type": "code",
   "execution_count": 16,
   "id": "cceb3383-fe1c-4815-ab64-61fe7ef611e1",
   "metadata": {},
   "outputs": [
    {
     "name": "stdout",
     "output_type": "stream",
     "text": [
      "[0.38927769 0.64130533 0.27981878 0.90925219 0.64886663]\n"
     ]
    }
   ],
   "source": [
    "from numpy import random\n",
    "x = random.rand(5)\n",
    "print(x)"
   ]
  },
  {
   "cell_type": "code",
   "execution_count": 17,
   "id": "65cd47c5-35ec-4401-86d6-94c4ffaef299",
   "metadata": {},
   "outputs": [
    {
     "name": "stdout",
     "output_type": "stream",
     "text": [
      "[[0.87992484 0.11521599 0.72023485 0.09908353 0.73804291]\n",
      " [0.00874814 0.75231951 0.77835816 0.33999306 0.68764274]\n",
      " [0.38828898 0.98289028 0.83011439 0.18712286 0.97581835]]\n"
     ]
    }
   ],
   "source": [
    "from numpy import random\n",
    "x = random.rand(3,5)\n",
    "print(x)"
   ]
  },
  {
   "cell_type": "code",
   "execution_count": 18,
   "id": "1125f8dd-f290-4c52-a518-ded4954fbe31",
   "metadata": {},
   "outputs": [
    {
     "name": "stdout",
     "output_type": "stream",
     "text": [
      "[[[0.48061931 0.92936852 0.92475109 0.50624702 0.58843424]\n",
      "  [0.09403876 0.8846339  0.57093071 0.74124415 0.90486511]\n",
      "  [0.75978566 0.26953635 0.92534798 0.20533605 0.30883056]]\n",
      "\n",
      " [[0.7094059  0.69049804 0.38406476 0.18358709 0.63649167]\n",
      "  [0.80510222 0.99534347 0.89388683 0.90278943 0.78719365]\n",
      "  [0.25711903 0.71564573 0.39633531 0.38017825 0.27325297]]\n",
      "\n",
      " [[0.91207727 0.55783097 0.72215481 0.0800102  0.21511472]\n",
      "  [0.29201101 0.25739039 0.65906362 0.20705994 0.34457291]\n",
      "  [0.29340013 0.3798377  0.64835797 0.83197227 0.34573176]]]\n"
     ]
    }
   ],
   "source": [
    "from numpy import random\n",
    "x = random.rand(3,3,5)\n",
    "print(x)"
   ]
  },
  {
   "cell_type": "code",
   "execution_count": 19,
   "id": "8e2dc0c8-d920-45c3-bda9-f18e3b2fd832",
   "metadata": {},
   "outputs": [
    {
     "name": "stdout",
     "output_type": "stream",
     "text": [
      "[0.98260293 0.6319365  0.50922388 0.08684809 0.89235351]\n"
     ]
    }
   ],
   "source": [
    "\n",
    "x = random.rand(5)\n",
    "print(x)\n"
   ]
  },
  {
   "cell_type": "code",
   "execution_count": 23,
   "id": "f86fc434-9d53-49c8-a8ec-448615537489",
   "metadata": {},
   "outputs": [
    {
     "name": "stdout",
     "output_type": "stream",
     "text": [
      "3\n"
     ]
    }
   ],
   "source": [
    "x = random.choice([3,5,7,9,4,5,5])\n",
    "print(x)"
   ]
  },
  {
   "cell_type": "code",
   "execution_count": 24,
   "id": "1599c3b7-f84f-4b7b-8d0a-5d7e6211bb6e",
   "metadata": {},
   "outputs": [
    {
     "name": "stdout",
     "output_type": "stream",
     "text": [
      "[[5 9 4 9 5]\n",
      " [5 5 5 5 7]\n",
      " [5 4 5 5 5]]\n"
     ]
    }
   ],
   "source": [
    "x = random.choice([3,5,7,9,4,5,5], size = (3,5))\n",
    "print(x)"
   ]
  },
  {
   "cell_type": "markdown",
   "id": "9183b9f4-e86a-4d48-8ccb-a149bfb7d07a",
   "metadata": {},
   "source": [
    "# data distribution"
   ]
  },
  {
   "cell_type": "code",
   "execution_count": 2,
   "id": "bd60f673-e5ef-473d-b8d6-f4d77e06071a",
   "metadata": {},
   "outputs": [],
   "source": [
    "#is list of all possible values and tell how often a value occurs."
   ]
  },
  {
   "cell_type": "code",
   "execution_count": 3,
   "id": "bacc36ec-7d6f-4a22-a668-838cd3994aab",
   "metadata": {},
   "outputs": [],
   "source": [
    "# probability function"
   ]
  },
  {
   "cell_type": "code",
   "execution_count": 4,
   "id": "45e5cee6-1031-43d3-a9f7-fd0095d679d2",
   "metadata": {},
   "outputs": [
    {
     "name": "stdout",
     "output_type": "stream",
     "text": [
      "[7 5 7 5 7 7 7 7 7 5 7 3 7 7 7 7 7 7 7 5 3 5 7 7 5 5 7 5 7 7 7 7 7 7 7 3 7\n",
      " 7 5 7 7 7 7 7 3 5 7 5 5 7 5 7 7 5 7 5 7 5 7 3 5 7 5 7 5 7 5 7 7 7 5 5 3 7\n",
      " 3 3 7 7 7 7 7 5 3 7 7 5 5 7 7 7 7 7 5 7 7 5 5 3 7 7]\n"
     ]
    }
   ],
   "source": [
    "from numpy import random\n",
    "x = random.choice([3,5,7,9], p=[0.1,0.3,0.6,0.0], size=(100))\n",
    "print(x)"
   ]
  },
  {
   "cell_type": "code",
   "execution_count": 9,
   "id": "2b82f426-f04d-4627-be68-eb78ae286de0",
   "metadata": {},
   "outputs": [
    {
     "name": "stdout",
     "output_type": "stream",
     "text": [
      "[[7 5 7 7 7]\n",
      " [7 7 7 7 5]\n",
      " [7 7 7 7 7]]\n"
     ]
    }
   ],
   "source": [
    "#2-d with 3 rows which have 5 valus\n",
    "\n",
    "y = random.choice([3,5,7,9], p=[0.1,0.3,0.6,0.0], size=(3,5))\n",
    "print(y)"
   ]
  },
  {
   "cell_type": "markdown",
   "id": "81a564c8-9c1f-4f9a-81b1-f6659a4dc270",
   "metadata": {},
   "source": [
    "# permutation "
   ]
  },
  {
   "cell_type": "code",
   "execution_count": 10,
   "id": "0a0bed53-4a48-40ff-a2d0-ada96b323f2e",
   "metadata": {},
   "outputs": [],
   "source": [
    "# permutation is arrangment of elelments like [3,2,1] is permutation of [1,2,3]\n",
    "\n",
    "#random method module = 1.shuffle() 2.permutation()"
   ]
  },
  {
   "cell_type": "code",
   "execution_count": 14,
   "id": "0bf491e7-6c0f-48ed-b7c8-2c42fd22df36",
   "metadata": {},
   "outputs": [
    {
     "name": "stdout",
     "output_type": "stream",
     "text": [
      "[3 1 2 5 4]\n"
     ]
    }
   ],
   "source": [
    "# shuffling changes orignal array\n",
    "from numpy import random\n",
    "import numpy as np\n",
    "x= np.array([1,2,3,4,5])\n",
    "random.shuffle(x)\n",
    "print(x)"
   ]
  },
  {
   "cell_type": "code",
   "execution_count": 16,
   "id": "9a5bd79d-6373-42ba-9982-f6a3dd84a54b",
   "metadata": {},
   "outputs": [
    {
     "name": "stdout",
     "output_type": "stream",
     "text": [
      "[1 2 3 4 5]\n"
     ]
    }
   ],
   "source": [
    "#permutation does not chANGE ORIGNAL array\n",
    "x= np.array([1,2,3,4,5])\n",
    "random.permutation(x)\n",
    "print(x)\n"
   ]
  },
  {
   "cell_type": "code",
   "execution_count": 17,
   "id": "0dd37d3f-3f2a-4008-b151-a7a47e1374f5",
   "metadata": {},
   "outputs": [
    {
     "name": "stdout",
     "output_type": "stream",
     "text": [
      "[2 1 3 5 4]\n"
     ]
    }
   ],
   "source": [
    "x= np.array([1,2,3,4,5])\n",
    "print(random.permutation(x))"
   ]
  },
  {
   "cell_type": "markdown",
   "id": "37be64f0-417f-4714-a69e-4c6d4b0376f6",
   "metadata": {},
   "source": [
    "# visualization data"
   ]
  },
  {
   "cell_type": "code",
   "execution_count": 18,
   "id": "0211c5e0-96b2-422d-8d92-fc26bc0f2c39",
   "metadata": {},
   "outputs": [
    {
     "name": "stdout",
     "output_type": "stream",
     "text": [
      "Requirement already satisfied: matplotlib in c:\\users\\sa\\appdata\\local\\programs\\python\\python311\\lib\\site-packages (3.8.4)\n",
      "Requirement already satisfied: contourpy>=1.0.1 in c:\\users\\sa\\appdata\\local\\programs\\python\\python311\\lib\\site-packages (from matplotlib) (1.2.1)\n",
      "Requirement already satisfied: cycler>=0.10 in c:\\users\\sa\\appdata\\local\\programs\\python\\python311\\lib\\site-packages (from matplotlib) (0.12.1)\n",
      "Requirement already satisfied: fonttools>=4.22.0 in c:\\users\\sa\\appdata\\local\\programs\\python\\python311\\lib\\site-packages (from matplotlib) (4.50.0)\n",
      "Requirement already satisfied: kiwisolver>=1.3.1 in c:\\users\\sa\\appdata\\local\\programs\\python\\python311\\lib\\site-packages (from matplotlib) (1.4.5)\n",
      "Requirement already satisfied: numpy>=1.21 in c:\\users\\sa\\appdata\\local\\programs\\python\\python311\\lib\\site-packages (from matplotlib) (1.26.1)\n",
      "Requirement already satisfied: packaging>=20.0 in c:\\users\\sa\\appdata\\local\\programs\\python\\python311\\lib\\site-packages (from matplotlib) (24.0)\n",
      "Requirement already satisfied: pillow>=8 in c:\\users\\sa\\appdata\\local\\programs\\python\\python311\\lib\\site-packages (from matplotlib) (10.3.0)\n",
      "Requirement already satisfied: pyparsing>=2.3.1 in c:\\users\\sa\\appdata\\local\\programs\\python\\python311\\lib\\site-packages (from matplotlib) (3.1.2)\n",
      "Requirement already satisfied: python-dateutil>=2.7 in c:\\users\\sa\\appdata\\local\\programs\\python\\python311\\lib\\site-packages (from matplotlib) (2.9.0.post0)\n",
      "Requirement already satisfied: six>=1.5 in c:\\users\\sa\\appdata\\local\\programs\\python\\python311\\lib\\site-packages (from python-dateutil>=2.7->matplotlib) (1.16.0)\n"
     ]
    }
   ],
   "source": [
    "!pip install matplotlib"
   ]
  },
  {
   "cell_type": "code",
   "execution_count": 19,
   "id": "e8b8cc0c-d1bd-40ad-aa1f-02573bfdd037",
   "metadata": {},
   "outputs": [
    {
     "name": "stdout",
     "output_type": "stream",
     "text": [
      "Requirement already satisfied: seaborn in c:\\users\\sa\\appdata\\local\\programs\\python\\python311\\lib\\site-packages (0.13.2)\n",
      "Requirement already satisfied: numpy!=1.24.0,>=1.20 in c:\\users\\sa\\appdata\\local\\programs\\python\\python311\\lib\\site-packages (from seaborn) (1.26.1)\n",
      "Requirement already satisfied: pandas>=1.2 in c:\\users\\sa\\appdata\\local\\programs\\python\\python311\\lib\\site-packages (from seaborn) (2.2.1)\n",
      "Requirement already satisfied: matplotlib!=3.6.1,>=3.4 in c:\\users\\sa\\appdata\\local\\programs\\python\\python311\\lib\\site-packages (from seaborn) (3.8.4)\n",
      "Requirement already satisfied: contourpy>=1.0.1 in c:\\users\\sa\\appdata\\local\\programs\\python\\python311\\lib\\site-packages (from matplotlib!=3.6.1,>=3.4->seaborn) (1.2.1)\n",
      "Requirement already satisfied: cycler>=0.10 in c:\\users\\sa\\appdata\\local\\programs\\python\\python311\\lib\\site-packages (from matplotlib!=3.6.1,>=3.4->seaborn) (0.12.1)\n",
      "Requirement already satisfied: fonttools>=4.22.0 in c:\\users\\sa\\appdata\\local\\programs\\python\\python311\\lib\\site-packages (from matplotlib!=3.6.1,>=3.4->seaborn) (4.50.0)\n",
      "Requirement already satisfied: kiwisolver>=1.3.1 in c:\\users\\sa\\appdata\\local\\programs\\python\\python311\\lib\\site-packages (from matplotlib!=3.6.1,>=3.4->seaborn) (1.4.5)\n",
      "Requirement already satisfied: packaging>=20.0 in c:\\users\\sa\\appdata\\local\\programs\\python\\python311\\lib\\site-packages (from matplotlib!=3.6.1,>=3.4->seaborn) (24.0)\n",
      "Requirement already satisfied: pillow>=8 in c:\\users\\sa\\appdata\\local\\programs\\python\\python311\\lib\\site-packages (from matplotlib!=3.6.1,>=3.4->seaborn) (10.3.0)\n",
      "Requirement already satisfied: pyparsing>=2.3.1 in c:\\users\\sa\\appdata\\local\\programs\\python\\python311\\lib\\site-packages (from matplotlib!=3.6.1,>=3.4->seaborn) (3.1.2)\n",
      "Requirement already satisfied: python-dateutil>=2.7 in c:\\users\\sa\\appdata\\local\\programs\\python\\python311\\lib\\site-packages (from matplotlib!=3.6.1,>=3.4->seaborn) (2.9.0.post0)\n",
      "Requirement already satisfied: pytz>=2020.1 in c:\\users\\sa\\appdata\\local\\programs\\python\\python311\\lib\\site-packages (from pandas>=1.2->seaborn) (2024.1)\n",
      "Requirement already satisfied: tzdata>=2022.7 in c:\\users\\sa\\appdata\\local\\programs\\python\\python311\\lib\\site-packages (from pandas>=1.2->seaborn) (2024.1)\n",
      "Requirement already satisfied: six>=1.5 in c:\\users\\sa\\appdata\\local\\programs\\python\\python311\\lib\\site-packages (from python-dateutil>=2.7->matplotlib!=3.6.1,>=3.4->seaborn) (1.16.0)\n"
     ]
    }
   ],
   "source": [
    "!pip install seaborn\n"
   ]
  },
  {
   "cell_type": "code",
   "execution_count": 21,
   "id": "03c6fb8a-7cd8-4c4e-bc44-29cb8fdc3881",
   "metadata": {},
   "outputs": [
    {
     "name": "stderr",
     "output_type": "stream",
     "text": [
      "C:\\Users\\sa\\AppData\\Local\\Temp\\ipykernel_8072\\3863929432.py:5: UserWarning: \n",
      "\n",
      "`distplot` is a deprecated function and will be removed in seaborn v0.14.0.\n",
      "\n",
      "Please adapt your code to use either `displot` (a figure-level function with\n",
      "similar flexibility) or `histplot` (an axes-level function for histograms).\n",
      "\n",
      "For a guide to updating your code to use the new functions, please see\n",
      "https://gist.github.com/mwaskom/de44147ed2974457ad6372750bbe5751\n",
      "\n",
      "  sns.distplot([0,1,2,3,4,5])\n"
     ]
    },
    {
     "data": {
      "image/png": "[encoded data removed]",
      "text/plain": [
       "<Figure size 640x480 with 1 Axes>"
      ]
     },
     "metadata": {},
     "output_type": "display_data"
    }
   ],
   "source": [
    "#Displot = distribution plot (make histogram)\n",
    "\n",
    "import matplotlib.pyplot as plt\n",
    "import seaborn as sns\n",
    "sns.distplot([0,1,2,3,4,5])\n",
    "plt.show()"
   ]
  },
  {
   "cell_type": "code",
   "execution_count": 22,
   "id": "dadfcc24-2b98-4c7f-a5df-afed416d85bd",
   "metadata": {},
   "outputs": [
    {
     "name": "stderr",
     "output_type": "stream",
     "text": [
      "C:\\Users\\sa\\AppData\\Local\\Temp\\ipykernel_8072\\759784356.py:3: UserWarning: \n",
      "\n",
      "`distplot` is a deprecated function and will be removed in seaborn v0.14.0.\n",
      "\n",
      "Please adapt your code to use either `displot` (a figure-level function with\n",
      "similar flexibility) or `kdeplot` (an axes-level function for kernel density plots).\n",
      "\n",
      "For a guide to updating your code to use the new functions, please see\n",
      "https://gist.github.com/mwaskom/de44147ed2974457ad6372750bbe5751\n",
      "\n",
      "  sns.distplot([0,1,2,3,4,5], hist=False)\n"
     ]
    },
    {
     "data": {
      "image/png": "[encoded data removed]",
      "text/plain": [
       "<Figure size 640x480 with 1 Axes>"
      ]
     },
     "metadata": {},
     "output_type": "display_data"
    }
   ],
   "source": [
    "# plot a graph without histogram\n",
    "\n",
    "sns.distplot([0,1,2,3,4,5], hist=False)\n",
    "plt.show()"
   ]
  },
  {
   "cell_type": "code",
   "execution_count": 23,
   "id": "be853499-579e-4624-9fdf-325e8f17439a",
   "metadata": {},
   "outputs": [
    {
     "name": "stdout",
     "output_type": "stream",
     "text": [
      "[[-0.99899468  0.56419982 -1.06546192]\n",
      " [ 1.26382097 -1.20789971 -1.70191276]]\n"
     ]
    }
   ],
   "source": [
    "# normal(gaussian) distrbution\n",
    "#random.normal() method-loc , scale, size\n",
    "\n",
    "from numpy import random\n",
    "x = random.normal(size=(2,3))\n",
    "print(x)"
   ]
  },
  {
   "cell_type": "code",
   "execution_count": 24,
   "id": "74a2cf44-c44f-4c47-a059-5ef06873ddde",
   "metadata": {},
   "outputs": [
    {
     "name": "stdout",
     "output_type": "stream",
     "text": [
      "[[ 0.45739498  4.35252751 -0.92781615]\n",
      " [-1.56414136  1.23840337  1.07865112]]\n"
     ]
    }
   ],
   "source": [
    "x = random.normal(loc=1 , scale=2 ,size=(2,3))\n",
    "print(x)"
   ]
  },
  {
   "cell_type": "code",
   "execution_count": 28,
   "id": "dc27221c-b48c-4562-a465-900a81d89085",
   "metadata": {},
   "outputs": [
    {
     "name": "stderr",
     "output_type": "stream",
     "text": [
      "C:\\Users\\sa\\AppData\\Local\\Temp\\ipykernel_8072\\728317812.py:3: UserWarning: \n",
      "\n",
      "`distplot` is a deprecated function and will be removed in seaborn v0.14.0.\n",
      "\n",
      "Please adapt your code to use either `displot` (a figure-level function with\n",
      "similar flexibility) or `kdeplot` (an axes-level function for kernel density plots).\n",
      "\n",
      "For a guide to updating your code to use the new functions, please see\n",
      "https://gist.github.com/mwaskom/de44147ed2974457ad6372750bbe5751\n",
      "\n",
      "  sns.distplot(random.normal(size =1000),hist=False)\n"
     ]
    },
    {
     "data": {
      "image/png": "[encoded data removed]",
      "text/plain": [
       "<Figure size 640x480 with 1 Axes>"
      ]
     },
     "metadata": {},
     "output_type": "display_data"
    }
   ],
   "source": [
    "# visulaization of normal distribution\n",
    "\n",
    "sns.distplot(random.normal(size =1000),hist=False)\n",
    "plt.show()"
   ]
  },
  {
   "cell_type": "code",
   "execution_count": 32,
   "id": "cc439d78-f279-49d2-b909-36f44648790d",
   "metadata": {},
   "outputs": [
    {
     "name": "stdout",
     "output_type": "stream",
     "text": [
      "[6 6 8 8 4 5 4 3 8 4]\n"
     ]
    }
   ],
   "source": [
    "# binomial distribution (discrete distribution)\n",
    "#paran = n(number of trails) , p(probability) , size(shape-returned array)\n",
    "\n",
    "from numpy import random\n",
    "x = random.binomial(n=10 ,p=0.5 ,size=10)\n",
    "print(x)"
   ]
  },
  {
   "cell_type": "code",
   "execution_count": 36,
   "id": "afc80f30-4490-4362-a6df-e63380d04ee7",
   "metadata": {},
   "outputs": [
    {
     "name": "stderr",
     "output_type": "stream",
     "text": [
      "C:\\Users\\sa\\AppData\\Local\\Temp\\ipykernel_8072\\4222729616.py:1: UserWarning: \n",
      "\n",
      "`distplot` is a deprecated function and will be removed in seaborn v0.14.0.\n",
      "\n",
      "Please adapt your code to use either `displot` (a figure-level function with\n",
      "similar flexibility) or `histplot` (an axes-level function for histograms).\n",
      "\n",
      "For a guide to updating your code to use the new functions, please see\n",
      "https://gist.github.com/mwaskom/de44147ed2974457ad6372750bbe5751\n",
      "\n",
      "  sns.distplot(random.binomial(n=10,p=0.5,size=100),hist=True )\n"
     ]
    },
    {
     "data": {
      "image/png": "[encoded data removed]",
      "text/plain": [
       "<Figure size 640x480 with 1 Axes>"
      ]
     },
     "metadata": {},
     "output_type": "display_data"
    }
   ],
   "source": [
    "sns.distplot(random.binomial(n=10,p=0.5,size=100),hist=True )\n",
    "plt.show()"
   ]
  },
  {
   "cell_type": "markdown",
   "id": "421ced0d-9b7a-4ad6-9cd4-72df0be12138",
   "metadata": {},
   "source": [
    "# poisson dist"
   ]
  },
  {
   "cell_type": "code",
   "execution_count": 3,
   "id": "d02c99f4-1c3e-4fd9-983c-f135f3d78b5f",
   "metadata": {},
   "outputs": [
    {
     "name": "stdout",
     "output_type": "stream",
     "text": [
      "[2 5 0 3 4 4 2 3 4 1]\n"
     ]
    }
   ],
   "source": [
    "# it tells how many time an event happen\n",
    "\n",
    "# parameter = 1.lam (number of occurance) , size\n",
    "\n",
    "from numpy import random\n",
    "x = random.poisson(lam=2 ,size=10)\n",
    "print(x)"
   ]
  },
  {
   "cell_type": "code",
   "execution_count": 8,
   "id": "2c65c0c1-ad09-4f79-925c-8acea5f195ec",
   "metadata": {},
   "outputs": [
    {
     "name": "stderr",
     "output_type": "stream",
     "text": [
      "C:\\Users\\sa\\AppData\\Local\\Temp\\ipykernel_7132\\3631009686.py:5: UserWarning: \n",
      "\n",
      "`distplot` is a deprecated function and will be removed in seaborn v0.14.0.\n",
      "\n",
      "Please adapt your code to use either `displot` (a figure-level function with\n",
      "similar flexibility) or `histplot` (an axes-level function for histograms).\n",
      "\n",
      "For a guide to updating your code to use the new functions, please see\n",
      "https://gist.github.com/mwaskom/de44147ed2974457ad6372750bbe5751\n",
      "\n",
      "  sns.distplot(random.poisson(lam=2, size=1000),kde =False)\n"
     ]
    },
    {
     "data": {
      "image/png": "[encoded data removed]",
      "text/plain": [
       "<Figure size 640x480 with 1 Axes>"
      ]
     },
     "metadata": {},
     "output_type": "display_data"
    }
   ],
   "source": [
    "#viualization of poisson\n",
    "x = random.poisson(lam=2, size=10)\n",
    "import matplotlib.pyplot as plt\n",
    "import seaborn as sns\n",
    "sns.distplot(random.poisson(lam=2, size=1000),kde =False)\n",
    "plt.show()\n"
   ]
  },
  {
   "cell_type": "code",
   "execution_count": 9,
   "id": "9e401061-f584-4d2a-bd3a-2a8d3c92617d",
   "metadata": {},
   "outputs": [
    {
     "name": "stderr",
     "output_type": "stream",
     "text": [
      "C:\\Users\\sa\\AppData\\Local\\Temp\\ipykernel_7132\\1374212226.py:1: UserWarning: \n",
      "\n",
      "`distplot` is a deprecated function and will be removed in seaborn v0.14.0.\n",
      "\n",
      "Please adapt your code to use either `displot` (a figure-level function with\n",
      "similar flexibility) or `kdeplot` (an axes-level function for kernel density plots).\n",
      "\n",
      "For a guide to updating your code to use the new functions, please see\n",
      "https://gist.github.com/mwaskom/de44147ed2974457ad6372750bbe5751\n",
      "\n",
      "  sns.distplot(random.normal(loc =  50 , scale = 7, size=1000),hist=False, label='Normal')\n",
      "C:\\Users\\sa\\AppData\\Local\\Temp\\ipykernel_7132\\1374212226.py:2: UserWarning: \n",
      "\n",
      "`distplot` is a deprecated function and will be removed in seaborn v0.14.0.\n",
      "\n",
      "Please adapt your code to use either `displot` (a figure-level function with\n",
      "similar flexibility) or `kdeplot` (an axes-level function for kernel density plots).\n",
      "\n",
      "For a guide to updating your code to use the new functions, please see\n",
      "https://gist.github.com/mwaskom/de44147ed2974457ad6372750bbe5751\n",
      "\n",
      "  sns.distplot(random.poisson(lam=50,size=1000),hist=False,label='Poisson')\n"
     ]
    },
    {
     "data": {
      "image/png": "[encoded data removed]",
      "text/plain": [
       "<Figure size 640x480 with 1 Axes>"
      ]
     },
     "metadata": {},
     "output_type": "display_data"
    }
   ],
   "source": [
    "sns.distplot(random.normal(loc =  50 , scale = 7, size=1000),hist=False, label='Normal')\n",
    "sns.distplot(random.poisson(lam=50,size=1000),hist=False,label='Poisson')\n",
    "plt.show()\n"
   ]
  },
  {
   "cell_type": "markdown",
   "id": "323bc525-16d8-4c4e-9aa7-512baef563b8",
   "metadata": {},
   "source": [
    "# unifrom dist"
   ]
  },
  {
   "cell_type": "code",
   "execution_count": 11,
   "id": "037ecffe-1a6d-4398-8c92-9add97bcb568",
   "metadata": {},
   "outputs": [
    {
     "name": "stdout",
     "output_type": "stream",
     "text": [
      "[[0.50049836 0.08958282 0.77543364]\n",
      " [0.11330256 0.02025045 0.94371527]]\n"
     ]
    }
   ],
   "source": [
    "# only for probability\n",
    "# parameter =1) lower bound (0.0) 2)upper bound(1.0) 3) size\n",
    "\n",
    "x = random.uniform(size=(2,3))\n",
    "print(x)"
   ]
  },
  {
   "cell_type": "code",
   "execution_count": 13,
   "id": "156337ce-8764-4ae6-95fb-1a776f113fb0",
   "metadata": {},
   "outputs": [
    {
     "name": "stderr",
     "output_type": "stream",
     "text": [
      "C:\\Users\\sa\\AppData\\Local\\Temp\\ipykernel_7132\\1329874455.py:1: UserWarning: \n",
      "\n",
      "`distplot` is a deprecated function and will be removed in seaborn v0.14.0.\n",
      "\n",
      "Please adapt your code to use either `displot` (a figure-level function with\n",
      "similar flexibility) or `kdeplot` (an axes-level function for kernel density plots).\n",
      "\n",
      "For a guide to updating your code to use the new functions, please see\n",
      "https://gist.github.com/mwaskom/de44147ed2974457ad6372750bbe5751\n",
      "\n",
      "  sns.distplot(random.uniform(size=1000),hist=False)\n"
     ]
    },
    {
     "data": {
      "image/png": "[encoded data removed]",
      "text/plain": [
       "<Figure size 640x480 with 1 Axes>"
      ]
     },
     "metadata": {},
     "output_type": "display_data"
    }
   ],
   "source": [
    "sns.distplot(random.uniform(size=1000),hist=False)\n",
    "plt.show()\n"
   ]
  },
  {
   "cell_type": "markdown",
   "id": "4814a3da-8bf5-41c4-bcb6-1341bfe5484d",
   "metadata": {},
   "source": [
    " # logistic dist"
   ]
  },
  {
   "cell_type": "code",
   "execution_count": 14,
   "id": "32c4c4a5-1206-41d1-b474-faecb034ae61",
   "metadata": {},
   "outputs": [
    {
     "name": "stdout",
     "output_type": "stream",
     "text": [
      "[[ -0.84132909  -4.3467623    3.22372776]\n",
      " [  1.99720383  -2.25966949 -10.73104831]]\n"
     ]
    }
   ],
   "source": [
    "# describe growth , it is important in regression an neural network\n",
    "#parameter =1) loc(mean=0) 2)scale(standard deviation,1) 3)size\n",
    "\n",
    "from numpy import random\n",
    "x = random.logistic(loc=1,scale=2,size=(2,3))\n",
    "print(x)"
   ]
  },
  {
   "cell_type": "code",
   "execution_count": 18,
   "id": "e56e65f2-2af3-4805-8c99-93b2dc2c1099",
   "metadata": {},
   "outputs": [
    {
     "name": "stderr",
     "output_type": "stream",
     "text": [
      "C:\\Users\\sa\\AppData\\Local\\Temp\\ipykernel_7132\\1215292993.py:1: UserWarning: \n",
      "\n",
      "`distplot` is a deprecated function and will be removed in seaborn v0.14.0.\n",
      "\n",
      "Please adapt your code to use either `displot` (a figure-level function with\n",
      "similar flexibility) or `kdeplot` (an axes-level function for kernel density plots).\n",
      "\n",
      "For a guide to updating your code to use the new functions, please see\n",
      "https://gist.github.com/mwaskom/de44147ed2974457ad6372750bbe5751\n",
      "\n",
      "  sns.distplot(random.logistic(size=1000), hist=False)\n"
     ]
    },
    {
     "data": {
      "image/png": "[encoded data removed]",
      "text/plain": [
       "<Figure size 640x480 with 1 Axes>"
      ]
     },
     "metadata": {},
     "output_type": "display_data"
    }
   ],
   "source": [
    "sns.distplot(random.logistic(size=1000), hist=False)\n",
    "plt.show()"
   ]
  },
  {
   "cell_type": "markdown",
   "id": "0f18d0b0-47d8-4cbe-9a34-ab0d7574774e",
   "metadata": {},
   "source": [
    "# multinomial distribution"
   ]
  },
  {
   "cell_type": "code",
   "execution_count": 1,
   "id": "48082ce5-b496-4d9f-afb8-1df655984dba",
   "metadata": {},
   "outputs": [],
   "source": [
    "#it is generalizationn of binomial dist-\n",
    "# parameter = 1) n(number of possibility) 2) pvals(list of possibility or outcome) 3)size\n"
   ]
  },
  {
   "cell_type": "code",
   "execution_count": 9,
   "id": "4ae764a2-50c0-4039-9eb8-cd4a1e8d9d34",
   "metadata": {},
   "outputs": [
    {
     "name": "stdout",
     "output_type": "stream",
     "text": [
      "[0 2 0 1 0 3]\n"
     ]
    }
   ],
   "source": [
    "\n",
    "from numpy import random\n",
    "x = random.multinomial(n=6, pvals=[1/6,1/6,1/6,1/6,1/6,1/6])\n",
    "print(x)"
   ]
  },
  {
   "cell_type": "markdown",
   "id": "b5271049-9bb5-4634-b4ff-c143dc74d1b9",
   "metadata": {},
   "source": [
    "# exponential dist\n"
   ]
  },
  {
   "cell_type": "code",
   "execution_count": 11,
   "id": "129dfbab-ad6b-42c9-926c-8f431e34e907",
   "metadata": {},
   "outputs": [],
   "source": [
    "#it describes time rate like failure and success\n",
    "#paramater  =1) scale()  2) size"
   ]
  },
  {
   "cell_type": "code",
   "execution_count": 13,
   "id": "3f0b352b-1150-431f-a36a-f647d833d035",
   "metadata": {},
   "outputs": [
    {
     "name": "stdout",
     "output_type": "stream",
     "text": [
      "[[1.40668498 1.3472139  3.52494723]\n",
      " [2.67853229 5.78193192 1.12490312]]\n"
     ]
    }
   ],
   "source": [
    "x = random.exponential(scale=2 , size=(2,3))\n",
    "print(x)"
   ]
  },
  {
   "cell_type": "code",
   "execution_count": 14,
   "id": "71b2514e-1fc5-47f2-a47b-810f56692d98",
   "metadata": {},
   "outputs": [],
   "source": [
    "#visualization"
   ]
  },
  {
   "cell_type": "code",
   "execution_count": 18,
   "id": "adb7b22f-4242-4f8c-8a5f-550a05b8fc02",
   "metadata": {},
   "outputs": [
    {
     "name": "stderr",
     "output_type": "stream",
     "text": [
      "C:\\Users\\sa\\AppData\\Local\\Temp\\ipykernel_2688\\2965772184.py:3: UserWarning: \n",
      "\n",
      "`distplot` is a deprecated function and will be removed in seaborn v0.14.0.\n",
      "\n",
      "Please adapt your code to use either `displot` (a figure-level function with\n",
      "similar flexibility) or `kdeplot` (an axes-level function for kernel density plots).\n",
      "\n",
      "For a guide to updating your code to use the new functions, please see\n",
      "https://gist.github.com/mwaskom/de44147ed2974457ad6372750bbe5751\n",
      "\n",
      "  sns.distplot(random.exponential(size=1000), hist= False)\n"
     ]
    },
    {
     "data": {
      "image/png": "[encoded data removed]",
      "text/plain": [
       "<Figure size 640x480 with 1 Axes>"
      ]
     },
     "metadata": {},
     "output_type": "display_data"
    }
   ],
   "source": [
    "import matplotlib.pyplot as plt\n",
    "import seaborn as sns\n",
    "sns.distplot(random.exponential(size=1000), hist= False)\n",
    "plt.show()"
   ]
  },
  {
   "cell_type": "markdown",
   "id": "8ab2a3b5-4ae5-4aff-8d5d-6d4e2fafb244",
   "metadata": {},
   "source": [
    "# Chi Square Dist"
   ]
  },
  {
   "cell_type": "code",
   "execution_count": 20,
   "id": "e535b128-2d7f-4f61-857f-8e1c52eef2fe",
   "metadata": {},
   "outputs": [],
   "source": [
    "# it is used as a basis to verify the hypothesis\n",
    "#paramater = 1) df 2 )size\n"
   ]
  },
  {
   "cell_type": "code",
   "execution_count": 22,
   "id": "08dc3077-e85f-447d-8d26-cf208b3afa87",
   "metadata": {},
   "outputs": [
    {
     "name": "stdout",
     "output_type": "stream",
     "text": [
      "[[5.18630487 4.43741397 1.79669954]\n",
      " [1.19899295 2.45844877 4.99216596]]\n"
     ]
    }
   ],
   "source": [
    "x = random.chisquare(df=2 ,size=(2,3))\n",
    "print(x)"
   ]
  },
  {
   "cell_type": "code",
   "execution_count": 23,
   "id": "b983d1dc-bce9-4a23-b747-69f7840defb3",
   "metadata": {},
   "outputs": [
    {
     "name": "stderr",
     "output_type": "stream",
     "text": [
      "C:\\Users\\sa\\AppData\\Local\\Temp\\ipykernel_2688\\929915771.py:1: UserWarning: \n",
      "\n",
      "`distplot` is a deprecated function and will be removed in seaborn v0.14.0.\n",
      "\n",
      "Please adapt your code to use either `displot` (a figure-level function with\n",
      "similar flexibility) or `kdeplot` (an axes-level function for kernel density plots).\n",
      "\n",
      "For a guide to updating your code to use the new functions, please see\n",
      "https://gist.github.com/mwaskom/de44147ed2974457ad6372750bbe5751\n",
      "\n",
      "  sns.distplot(random.chisquare(df=1 ,size=1000) ,hist= False)\n"
     ]
    },
    {
     "data": {
      "image/png": "[encoded data removed]",
      "text/plain": [
       "<Figure size 640x480 with 1 Axes>"
      ]
     },
     "metadata": {},
     "output_type": "display_data"
    }
   ],
   "source": [
    "sns.distplot(random.chisquare(df=1 ,size=1000) ,hist= False)\n",
    "plt.show()\n"
   ]
  },
  {
   "cell_type": "markdown",
   "id": "4749993a-a17a-4103-a7e4-c68e2ac19cc4",
   "metadata": {},
   "source": [
    "# rayleigh dist"
   ]
  },
  {
   "cell_type": "code",
   "execution_count": 24,
   "id": "35a94f46-a251-4eb5-b892-487d5cac7ba3",
   "metadata": {},
   "outputs": [],
   "source": [
    "#signal processing\n",
    "#parameter = 1)scale(default =1.0) , 2)size\n"
   ]
  },
  {
   "cell_type": "code",
   "execution_count": 25,
   "id": "5d308e7b-8395-4911-b957-8f42e9209ebf",
   "metadata": {},
   "outputs": [
    {
     "name": "stdout",
     "output_type": "stream",
     "text": [
      "[[1.78432541 1.90688184 5.0140036 ]\n",
      " [1.33907145 3.04252769 2.60356205]]\n"
     ]
    }
   ],
   "source": [
    "x = random.rayleigh(scale=2 ,size=(2,3))\n",
    "print(x)\n"
   ]
  },
  {
   "cell_type": "code",
   "execution_count": 26,
   "id": "ee14daa7-5513-4e2b-9e88-fbe15a503620",
   "metadata": {},
   "outputs": [
    {
     "name": "stderr",
     "output_type": "stream",
     "text": [
      "C:\\Users\\sa\\AppData\\Local\\Temp\\ipykernel_2688\\2338677170.py:1: UserWarning: \n",
      "\n",
      "`distplot` is a deprecated function and will be removed in seaborn v0.14.0.\n",
      "\n",
      "Please adapt your code to use either `displot` (a figure-level function with\n",
      "similar flexibility) or `kdeplot` (an axes-level function for kernel density plots).\n",
      "\n",
      "For a guide to updating your code to use the new functions, please see\n",
      "https://gist.github.com/mwaskom/de44147ed2974457ad6372750bbe5751\n",
      "\n",
      "  sns.distplot(random.rayleigh(size=1000), hist=False)\n"
     ]
    },
    {
     "data": {
      "image/png": "[encoded data removed]",
      "text/plain": [
       "<Figure size 640x480 with 1 Axes>"
      ]
     },
     "metadata": {},
     "output_type": "display_data"
    }
   ],
   "source": [
    "sns.distplot(random.rayleigh(size=1000), hist=False)\n",
    "plt.show()"
   ]
  },
  {
   "cell_type": "markdown",
   "id": "29fa62cd-a83f-4816-86f3-292c7a79ff6b",
   "metadata": {},
   "source": [
    "# Pareto Distribution"
   ]
  },
  {
   "cell_type": "code",
   "execution_count": 1,
   "id": "5b32f962-ebc3-45fa-bf62-bf0bf46f91b3",
   "metadata": {},
   "outputs": [],
   "source": [
    "# it is 80:20 ratio (20% factors cause 80% results) \n",
    "# parameter - 1) shape 2) size"
   ]
  },
  {
   "cell_type": "code",
   "execution_count": 2,
   "id": "b7956801-65b4-40cb-a92a-13690ebf9fd8",
   "metadata": {},
   "outputs": [
    {
     "name": "stdout",
     "output_type": "stream",
     "text": [
      "[[5.00026121e-02 3.41673865e-01 4.44738119e-03]\n",
      " [6.27438322e+00 5.00755949e-02 1.39737664e+00]]\n"
     ]
    }
   ],
   "source": [
    "from numpy import random\n",
    "x = random.pareto(a=2 ,size =(2,3))\n",
    "print(x)"
   ]
  },
  {
   "cell_type": "code",
   "execution_count": 6,
   "id": "72cd907f-89ab-4702-93d0-6d50eae0dbc7",
   "metadata": {},
   "outputs": [
    {
     "name": "stderr",
     "output_type": "stream",
     "text": [
      "C:\\Users\\sa\\AppData\\Local\\Temp\\ipykernel_2336\\15863992.py:3: UserWarning: \n",
      "\n",
      "`distplot` is a deprecated function and will be removed in seaborn v0.14.0.\n",
      "\n",
      "Please adapt your code to use either `displot` (a figure-level function with\n",
      "similar flexibility) or `histplot` (an axes-level function for histograms).\n",
      "\n",
      "For a guide to updating your code to use the new functions, please see\n",
      "https://gist.github.com/mwaskom/de44147ed2974457ad6372750bbe5751\n",
      "\n",
      "  sns.distplot(random.pareto(a=2, size=1000 ))\n"
     ]
    },
    {
     "data": {
      "image/png": "[encoded data removed]",
      "text/plain": [
       "<Figure size 640x480 with 1 Axes>"
      ]
     },
     "metadata": {},
     "output_type": "display_data"
    }
   ],
   "source": [
    "import matplotlib.pyplot as plt\n",
    "import seaborn as sns\n",
    "sns.distplot(random.pareto(a=2, size=1000 ))\n",
    "plt.show()"
   ]
  },
  {
   "cell_type": "markdown",
   "id": "138bfbba-a360-4ab8-ae04-042b01fefe62",
   "metadata": {},
   "source": [
    "# Zipf Dist-"
   ]
  },
  {
   "cell_type": "code",
   "execution_count": 8,
   "id": "a186a4b8-c7a4-4aa9-9154-03de888c92d0",
   "metadata": {},
   "outputs": [],
   "source": [
    "# it is like common word in english has occur nearly 1\\5 as od urdu word\n",
    "# para = 1) dist 2 )size"
   ]
  },
  {
   "cell_type": "code",
   "execution_count": 15,
   "id": "eb23bc0d-c5b3-45dd-b6c3-0496c751674d",
   "metadata": {},
   "outputs": [
    {
     "ename": "SyntaxError",
     "evalue": "invalid syntax (2772486218.py, line 2)",
     "output_type": "error",
     "traceback": [
      "\u001b[1;36m  Cell \u001b[1;32mIn[15], line 2\u001b[1;36m\u001b[0m\n\u001b[1;33m    print(x[<10])\u001b[0m\n\u001b[1;37m            ^\u001b[0m\n\u001b[1;31mSyntaxError\u001b[0m\u001b[1;31m:\u001b[0m invalid syntax\n"
     ]
    }
   ],
   "source": [
    "x = random.zipf(a=2 , size=(2,3))\n",
    "print(x)"
   ]
  },
  {
   "cell_type": "code",
   "execution_count": 16,
   "id": "bfc48669-2e88-4b6e-b2e0-7b4c775f2513",
   "metadata": {},
   "outputs": [
    {
     "name": "stderr",
     "output_type": "stream",
     "text": [
      "C:\\Users\\sa\\AppData\\Local\\Temp\\ipykernel_2336\\47776870.py:1: UserWarning: \n",
      "\n",
      "`distplot` is a deprecated function and will be removed in seaborn v0.14.0.\n",
      "\n",
      "Please adapt your code to use either `displot` (a figure-level function with\n",
      "similar flexibility) or `histplot` (an axes-level function for histograms).\n",
      "\n",
      "For a guide to updating your code to use the new functions, please see\n",
      "https://gist.github.com/mwaskom/de44147ed2974457ad6372750bbe5751\n",
      "\n",
      "  sns.distplot(x[x<10])\n"
     ]
    },
    {
     "data": {
      "image/png": "[encoded data removed]",
      "text/plain": [
       "<Figure size 640x480 with 1 Axes>"
      ]
     },
     "metadata": {},
     "output_type": "display_data"
    }
   ],
   "source": [
    "sns.distplot(x[x<10])\n",
    "plt.show()\n"
   ]
  },
  {
   "cell_type": "markdown",
   "id": "e959c572-1375-4ab1-8c15-173306a38029",
   "metadata": {},
   "source": [
    "# ufunc "
   ]
  },
  {
   "cell_type": "code",
   "execution_count": 1,
   "id": "986cfa71-6393-45ef-8818-46b956d5dcce",
   "metadata": {},
   "outputs": [],
   "source": [
    "# universal function that operate on ndarray\n",
    "# unfunc also takes arguments = where,dtype, out\n"
   ]
  },
  {
   "cell_type": "code",
   "execution_count": 4,
   "id": "b51c59c3-b655-46ac-86dc-4b2421139908",
   "metadata": {},
   "outputs": [
    {
     "name": "stdout",
     "output_type": "stream",
     "text": [
      "[5, 7, 9, 11]\n"
     ]
    }
   ],
   "source": [
    "# without ufunc\n",
    "\n",
    "x =[1,2,3,4]\n",
    "y =[4,5,6,7]\n",
    "z= []\n",
    "for i,j in zip(x,y):\n",
    "    z.append(i+j)\n",
    "print(z)"
   ]
  },
  {
   "cell_type": "code",
   "execution_count": 6,
   "id": "d11d5b63-e5df-444f-8622-a5360ed2c372",
   "metadata": {},
   "outputs": [
    {
     "name": "stdout",
     "output_type": "stream",
     "text": [
      "[ 5  7  9 11]\n"
     ]
    }
   ],
   "source": [
    "#with ufunc\n",
    "import numpy as np\n",
    "x =[1,2,3,4]\n",
    "y =[4,5,6,7]\n",
    "z= np.add(x,y)\n",
    "print(z)"
   ]
  },
  {
   "cell_type": "code",
   "execution_count": 7,
   "id": "017e6a6c-ef94-4974-8e31-4d1937358d7c",
   "metadata": {},
   "outputs": [
    {
     "name": "stdout",
     "output_type": "stream",
     "text": [
      "[6 8 10 12]\n"
     ]
    }
   ],
   "source": [
    "# create own  ufunc\n",
    "#argumengts = function ,inputs , outputs\n",
    "\n",
    "import numpy as np\n",
    "def val(x,y):\n",
    "    return(x+y)\n",
    "\n",
    "val = np.frompyfunc(val ,2,1)\n",
    "print(val([1,2,3,4],[5,6,7,8]))"
   ]
  },
  {
   "cell_type": "code",
   "execution_count": null,
   "id": "7853f2a0-d33b-410a-a54f-1c8104920a4a",
   "metadata": {},
   "outputs": [],
   "source": []
  }
 ],
 "metadata": {
  "kernelspec": {
   "display_name": "Python 3 (ipykernel)",
   "language": "python",
   "name": "python3"
  },
  "language_info": {
   "codemirror_mode": {
    "name": "ipython",
    "version": 3
   },
   "file_extension": ".py",
   "mimetype": "text/x-python",
   "name": "python",
   "nbconvert_exporter": "python",
   "pygments_lexer": "ipython3",
   "version": "3.11.5"
  }
 },
 "nbformat": 4,
 "nbformat_minor": 5
}
